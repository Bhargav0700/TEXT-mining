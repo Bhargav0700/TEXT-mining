{
 "cells": [
  {
   "cell_type": "markdown",
   "id": "6bd64d58",
   "metadata": {},
   "source": [
    "For Text Mining assignment\n",
    " \n",
    " ONE:\n",
    "1) Perform sentimental analysis on the Elon-musk tweets (Exlon-musk.csv)\n",
    "\n",
    " TWO:\n",
    "1) Extract reviews of any product from ecommerce website like amazon\n",
    "2) Perform emotion mining\n"
   ]
  },
  {
   "cell_type": "code",
   "execution_count": 1,
   "id": "851f3f7e",
   "metadata": {},
   "outputs": [
    {
     "name": "stdout",
     "output_type": "stream",
     "text": [
      "Requirement already satisfied: textblob in c:\\users\\dell\\anaconda3.1\\lib\\site-packages (0.17.1)\n",
      "Requirement already satisfied: nltk>=3.1 in c:\\users\\dell\\anaconda3.1\\lib\\site-packages (from textblob) (3.7)\n",
      "Requirement already satisfied: click in c:\\users\\dell\\anaconda3.1\\lib\\site-packages (from nltk>=3.1->textblob) (8.0.4)\n",
      "Requirement already satisfied: tqdm in c:\\users\\dell\\anaconda3.1\\lib\\site-packages (from nltk>=3.1->textblob) (4.64.1)\n",
      "Requirement already satisfied: joblib in c:\\users\\dell\\anaconda3.1\\lib\\site-packages (from nltk>=3.1->textblob) (1.1.0)\n",
      "Requirement already satisfied: regex>=2021.8.3 in c:\\users\\dell\\anaconda3.1\\lib\\site-packages (from nltk>=3.1->textblob) (2022.7.9)\n",
      "Requirement already satisfied: colorama in c:\\users\\dell\\anaconda3.1\\lib\\site-packages (from click->nltk>=3.1->textblob) (0.4.6)\n"
     ]
    }
   ],
   "source": [
    "!pip install -U textblob"
   ]
  },
  {
   "cell_type": "code",
   "execution_count": 2,
   "id": "e4ee7003",
   "metadata": {},
   "outputs": [
    {
     "name": "stderr",
     "output_type": "stream",
     "text": [
      "[nltk_data] Downloading package stopwords to\n",
      "[nltk_data]     C:\\Users\\Dell\\AppData\\Roaming\\nltk_data...\n",
      "[nltk_data]   Package stopwords is already up-to-date!\n"
     ]
    },
    {
     "data": {
      "text/plain": [
       "True"
      ]
     },
     "execution_count": 2,
     "metadata": {},
     "output_type": "execute_result"
    }
   ],
   "source": [
    "import nltk\n",
    "nltk.download('stopwords')"
   ]
  },
  {
   "cell_type": "code",
   "execution_count": 3,
   "id": "12c826b4",
   "metadata": {},
   "outputs": [
    {
     "name": "stderr",
     "output_type": "stream",
     "text": [
      "[nltk_data] Downloading package wordnet to\n",
      "[nltk_data]     C:\\Users\\Dell\\AppData\\Roaming\\nltk_data...\n",
      "[nltk_data]   Package wordnet is already up-to-date!\n"
     ]
    },
    {
     "data": {
      "text/plain": [
       "True"
      ]
     },
     "execution_count": 3,
     "metadata": {},
     "output_type": "execute_result"
    }
   ],
   "source": [
    "nltk.download('wordnet')"
   ]
  },
  {
   "cell_type": "code",
   "execution_count": 4,
   "id": "7040c23b",
   "metadata": {},
   "outputs": [],
   "source": [
    "# # importing libraries\n",
    "import pandas as pd\n",
    "import numpy as np\n",
    "import matplotlib.pyplot as plt\n",
    "import seaborn as sns\n",
    "from nltk.corpus import stopwords\n",
    "from textblob import TextBlob\n",
    "from textblob import Word\n",
    "from sklearn.feature_extraction.text import TfidfVectorizer\n",
    "from sklearn.feature_extraction.text import CountVectorizer\n",
    "import wordcloud\n",
    "from wordcloud import WordCloud "
   ]
  },
  {
   "cell_type": "code",
   "execution_count": 2,
   "id": "666a96ea",
   "metadata": {},
   "outputs": [
    {
     "data": {
      "text/html": [
       "<div>\n",
       "<style scoped>\n",
       "    .dataframe tbody tr th:only-of-type {\n",
       "        vertical-align: middle;\n",
       "    }\n",
       "\n",
       "    .dataframe tbody tr th {\n",
       "        vertical-align: top;\n",
       "    }\n",
       "\n",
       "    .dataframe thead th {\n",
       "        text-align: right;\n",
       "    }\n",
       "</style>\n",
       "<table border=\"1\" class=\"dataframe\">\n",
       "  <thead>\n",
       "    <tr style=\"text-align: right;\">\n",
       "      <th></th>\n",
       "      <th>Unnamed: 0</th>\n",
       "      <th>Text</th>\n",
       "    </tr>\n",
       "  </thead>\n",
       "  <tbody>\n",
       "    <tr>\n",
       "      <th>0</th>\n",
       "      <td>1</td>\n",
       "      <td>@kunalb11 Im an alien</td>\n",
       "    </tr>\n",
       "    <tr>\n",
       "      <th>1</th>\n",
       "      <td>2</td>\n",
       "      <td>@ID_AA_Carmack Ray tracing on Cyberpunk with H...</td>\n",
       "    </tr>\n",
       "    <tr>\n",
       "      <th>2</th>\n",
       "      <td>3</td>\n",
       "      <td>@joerogan @Spotify Great interview!</td>\n",
       "    </tr>\n",
       "    <tr>\n",
       "      <th>3</th>\n",
       "      <td>4</td>\n",
       "      <td>@gtera27 Doge is underestimated</td>\n",
       "    </tr>\n",
       "    <tr>\n",
       "      <th>4</th>\n",
       "      <td>5</td>\n",
       "      <td>@teslacn Congratulations Tesla China for amazi...</td>\n",
       "    </tr>\n",
       "    <tr>\n",
       "      <th>...</th>\n",
       "      <td>...</td>\n",
       "      <td>...</td>\n",
       "    </tr>\n",
       "    <tr>\n",
       "      <th>1994</th>\n",
       "      <td>1995</td>\n",
       "      <td>@flcnhvy True, it sounds so surreal, but the n...</td>\n",
       "    </tr>\n",
       "    <tr>\n",
       "      <th>1995</th>\n",
       "      <td>1996</td>\n",
       "      <td>@PPathole Make sure to read ur terms &amp;amp; con...</td>\n",
       "    </tr>\n",
       "    <tr>\n",
       "      <th>1996</th>\n",
       "      <td>1997</td>\n",
       "      <td>@TeslaGong @PPathole Samwise Gamgee</td>\n",
       "    </tr>\n",
       "    <tr>\n",
       "      <th>1997</th>\n",
       "      <td>1998</td>\n",
       "      <td>@PPathole Altho Dumb and Dumber is &lt;U+0001F525...</td>\n",
       "    </tr>\n",
       "    <tr>\n",
       "      <th>1998</th>\n",
       "      <td>1999</td>\n",
       "      <td>Progress update August 28</td>\n",
       "    </tr>\n",
       "  </tbody>\n",
       "</table>\n",
       "<p>1999 rows × 2 columns</p>\n",
       "</div>"
      ],
      "text/plain": [
       "      Unnamed: 0                                               Text\n",
       "0              1                             @kunalb11 Im an alien\n",
       "1              2  @ID_AA_Carmack Ray tracing on Cyberpunk with H...\n",
       "2              3                @joerogan @Spotify Great interview!\n",
       "3              4                    @gtera27 Doge is underestimated\n",
       "4              5  @teslacn Congratulations Tesla China for amazi...\n",
       "...          ...                                                ...\n",
       "1994        1995  @flcnhvy True, it sounds so surreal, but the n...\n",
       "1995        1996  @PPathole Make sure to read ur terms &amp; con...\n",
       "1996        1997                @TeslaGong @PPathole Samwise Gamgee\n",
       "1997        1998  @PPathole Altho Dumb and Dumber is <U+0001F525...\n",
       "1998        1999                          Progress update August 28\n",
       "\n",
       "[1999 rows x 2 columns]"
      ]
     },
     "execution_count": 2,
     "metadata": {},
     "output_type": "execute_result"
    }
   ],
   "source": [
    "#importing the dataset\n",
    "data=pd.read_csv(\"Elon_musk.csv\", encoding='latin-1')\n",
    "data"
   ]
  },
  {
   "cell_type": "code",
   "execution_count": 4,
   "id": "b61aa227",
   "metadata": {},
   "outputs": [
    {
     "data": {
      "text/html": [
       "<div>\n",
       "<style scoped>\n",
       "    .dataframe tbody tr th:only-of-type {\n",
       "        vertical-align: middle;\n",
       "    }\n",
       "\n",
       "    .dataframe tbody tr th {\n",
       "        vertical-align: top;\n",
       "    }\n",
       "\n",
       "    .dataframe thead th {\n",
       "        text-align: right;\n",
       "    }\n",
       "</style>\n",
       "<table border=\"1\" class=\"dataframe\">\n",
       "  <thead>\n",
       "    <tr style=\"text-align: right;\">\n",
       "      <th></th>\n",
       "      <th>Text</th>\n",
       "    </tr>\n",
       "  </thead>\n",
       "  <tbody>\n",
       "    <tr>\n",
       "      <th>0</th>\n",
       "      <td>@kunalb11 Im an alien</td>\n",
       "    </tr>\n",
       "    <tr>\n",
       "      <th>1</th>\n",
       "      <td>@ID_AA_Carmack Ray tracing on Cyberpunk with H...</td>\n",
       "    </tr>\n",
       "    <tr>\n",
       "      <th>2</th>\n",
       "      <td>@joerogan @Spotify Great interview!</td>\n",
       "    </tr>\n",
       "    <tr>\n",
       "      <th>3</th>\n",
       "      <td>@gtera27 Doge is underestimated</td>\n",
       "    </tr>\n",
       "    <tr>\n",
       "      <th>4</th>\n",
       "      <td>@teslacn Congratulations Tesla China for amazi...</td>\n",
       "    </tr>\n",
       "  </tbody>\n",
       "</table>\n",
       "</div>"
      ],
      "text/plain": [
       "                                                Text\n",
       "0                             @kunalb11 Im an alien\n",
       "1  @ID_AA_Carmack Ray tracing on Cyberpunk with H...\n",
       "2                @joerogan @Spotify Great interview!\n",
       "3                    @gtera27 Doge is underestimated\n",
       "4  @teslacn Congratulations Tesla China for amazi..."
      ]
     },
     "execution_count": 4,
     "metadata": {},
     "output_type": "execute_result"
    }
   ],
   "source": [
    "#droping unwanted column\n",
    "data=data.drop('Unnamed: 0',axis=1)\n",
    "data.head()"
   ]
  },
  {
   "cell_type": "code",
   "execution_count": 5,
   "id": "5efe82d3",
   "metadata": {},
   "outputs": [
    {
     "data": {
      "text/plain": [
       "(1999, 1)"
      ]
     },
     "execution_count": 5,
     "metadata": {},
     "output_type": "execute_result"
    }
   ],
   "source": [
    "#Check the various attributes of data like shape(rows and cols),columns,datatypes\n",
    "data.shape"
   ]
  },
  {
   "cell_type": "code",
   "execution_count": 7,
   "id": "3df0b0d2",
   "metadata": {},
   "outputs": [
    {
     "name": "stdout",
     "output_type": "stream",
     "text": [
      "<class 'pandas.core.frame.DataFrame'>\n",
      "RangeIndex: 1999 entries, 0 to 1998\n",
      "Data columns (total 1 columns):\n",
      " #   Column  Non-Null Count  Dtype \n",
      "---  ------  --------------  ----- \n",
      " 0   Text    1999 non-null   object\n",
      "dtypes: object(1)\n",
      "memory usage: 15.7+ KB\n"
     ]
    }
   ],
   "source": [
    "#The data information to know how many missing values available in the dataset\n",
    "data.info()"
   ]
  },
  {
   "cell_type": "code",
   "execution_count": 8,
   "id": "706463f0",
   "metadata": {},
   "outputs": [
    {
     "data": {
      "text/plain": [
       "Text    0\n",
       "dtype: int64"
      ]
     },
     "execution_count": 8,
     "metadata": {},
     "output_type": "execute_result"
    }
   ],
   "source": [
    "# missing value by applying function\n",
    "data.isnull().sum()"
   ]
  },
  {
   "cell_type": "code",
   "execution_count": 12,
   "id": "316bf48c",
   "metadata": {},
   "outputs": [
    {
     "data": {
      "text/plain": [
       "0"
      ]
     },
     "execution_count": 12,
     "metadata": {},
     "output_type": "execute_result"
    }
   ],
   "source": [
    "# checking duplicate rows\n",
    "# dataset has 2 duplicate tweets ,so we need to drop them.\n",
    "data.duplicated().sum()\n"
   ]
  },
  {
   "cell_type": "code",
   "execution_count": 10,
   "id": "ac51c07e",
   "metadata": {},
   "outputs": [],
   "source": [
    "# droping duplicate rows\n",
    "data=data.drop_duplicates()"
   ]
  },
  {
   "cell_type": "code",
   "execution_count": 11,
   "id": "2426a40a",
   "metadata": {},
   "outputs": [
    {
     "data": {
      "text/plain": [
       "1997"
      ]
     },
     "execution_count": 11,
     "metadata": {},
     "output_type": "execute_result"
    }
   ],
   "source": [
    "len(data.Text.unique())"
   ]
  },
  {
   "cell_type": "code",
   "execution_count": 14,
   "id": "7fd940b1",
   "metadata": {},
   "outputs": [
    {
     "data": {
      "text/html": [
       "<div>\n",
       "<style scoped>\n",
       "    .dataframe tbody tr th:only-of-type {\n",
       "        vertical-align: middle;\n",
       "    }\n",
       "\n",
       "    .dataframe tbody tr th {\n",
       "        vertical-align: top;\n",
       "    }\n",
       "\n",
       "    .dataframe thead th {\n",
       "        text-align: right;\n",
       "    }\n",
       "</style>\n",
       "<table border=\"1\" class=\"dataframe\">\n",
       "  <thead>\n",
       "    <tr style=\"text-align: right;\">\n",
       "      <th></th>\n",
       "      <th>Text</th>\n",
       "      <th>word_count</th>\n",
       "    </tr>\n",
       "  </thead>\n",
       "  <tbody>\n",
       "    <tr>\n",
       "      <th>1989</th>\n",
       "      <td>@buzzindelhi Sorry, should hopefully be soon!</td>\n",
       "      <td>6</td>\n",
       "    </tr>\n",
       "    <tr>\n",
       "      <th>1990</th>\n",
       "      <td>@kenyanwalstreet Not actually a payout, just a...</td>\n",
       "      <td>22</td>\n",
       "    </tr>\n",
       "    <tr>\n",
       "      <th>1991</th>\n",
       "      <td>@IheartTesla No easy way to answer this in a t...</td>\n",
       "      <td>23</td>\n",
       "    </tr>\n",
       "    <tr>\n",
       "      <th>1992</th>\n",
       "      <td>AI symbiosis while u wait</td>\n",
       "      <td>5</td>\n",
       "    </tr>\n",
       "    <tr>\n",
       "      <th>1993</th>\n",
       "      <td>@vistacruiser7 @flcnhvy Theres some of that too</td>\n",
       "      <td>7</td>\n",
       "    </tr>\n",
       "    <tr>\n",
       "      <th>1994</th>\n",
       "      <td>@flcnhvy True, it sounds so surreal, but the n...</td>\n",
       "      <td>23</td>\n",
       "    </tr>\n",
       "    <tr>\n",
       "      <th>1995</th>\n",
       "      <td>@PPathole Make sure to read ur terms &amp;amp; con...</td>\n",
       "      <td>12</td>\n",
       "    </tr>\n",
       "    <tr>\n",
       "      <th>1996</th>\n",
       "      <td>@TeslaGong @PPathole Samwise Gamgee</td>\n",
       "      <td>4</td>\n",
       "    </tr>\n",
       "    <tr>\n",
       "      <th>1997</th>\n",
       "      <td>@PPathole Altho Dumb and Dumber is &lt;U+0001F525...</td>\n",
       "      <td>7</td>\n",
       "    </tr>\n",
       "    <tr>\n",
       "      <th>1998</th>\n",
       "      <td>Progress update August 28</td>\n",
       "      <td>4</td>\n",
       "    </tr>\n",
       "  </tbody>\n",
       "</table>\n",
       "</div>"
      ],
      "text/plain": [
       "                                                   Text  word_count\n",
       "1989      @buzzindelhi Sorry, should hopefully be soon!           6\n",
       "1990  @kenyanwalstreet Not actually a payout, just a...          22\n",
       "1991  @IheartTesla No easy way to answer this in a t...          23\n",
       "1992                          AI symbiosis while u wait           5\n",
       "1993   @vistacruiser7 @flcnhvy Theres some of that too           7\n",
       "1994  @flcnhvy True, it sounds so surreal, but the n...          23\n",
       "1995  @PPathole Make sure to read ur terms &amp; con...          12\n",
       "1996                @TeslaGong @PPathole Samwise Gamgee           4\n",
       "1997  @PPathole Altho Dumb and Dumber is <U+0001F525...           7\n",
       "1998                          Progress update August 28           4"
      ]
     },
     "execution_count": 14,
     "metadata": {},
     "output_type": "execute_result"
    }
   ],
   "source": [
    "# number of Words in single tweet\n",
    "data['word_count'] = data['Text'].apply(lambda x: len(str(x).split(\" \")))\n",
    "data[['Text','word_count']].tail(10)"
   ]
  },
  {
   "cell_type": "markdown",
   "id": "8e8a4cb2",
   "metadata": {},
   "source": [
    "we can see that the number of words are showing on the right side"
   ]
  },
  {
   "cell_type": "code",
   "execution_count": 15,
   "id": "94eae068",
   "metadata": {},
   "outputs": [
    {
     "data": {
      "text/html": [
       "<div>\n",
       "<style scoped>\n",
       "    .dataframe tbody tr th:only-of-type {\n",
       "        vertical-align: middle;\n",
       "    }\n",
       "\n",
       "    .dataframe tbody tr th {\n",
       "        vertical-align: top;\n",
       "    }\n",
       "\n",
       "    .dataframe thead th {\n",
       "        text-align: right;\n",
       "    }\n",
       "</style>\n",
       "<table border=\"1\" class=\"dataframe\">\n",
       "  <thead>\n",
       "    <tr style=\"text-align: right;\">\n",
       "      <th></th>\n",
       "      <th>Text</th>\n",
       "      <th>char_count</th>\n",
       "    </tr>\n",
       "  </thead>\n",
       "  <tbody>\n",
       "    <tr>\n",
       "      <th>0</th>\n",
       "      <td>@kunalb11 Im an alien</td>\n",
       "      <td>22</td>\n",
       "    </tr>\n",
       "    <tr>\n",
       "      <th>1</th>\n",
       "      <td>@ID_AA_Carmack Ray tracing on Cyberpunk with H...</td>\n",
       "      <td>82</td>\n",
       "    </tr>\n",
       "    <tr>\n",
       "      <th>2</th>\n",
       "      <td>@joerogan @Spotify Great interview!</td>\n",
       "      <td>35</td>\n",
       "    </tr>\n",
       "    <tr>\n",
       "      <th>3</th>\n",
       "      <td>@gtera27 Doge is underestimated</td>\n",
       "      <td>31</td>\n",
       "    </tr>\n",
       "    <tr>\n",
       "      <th>4</th>\n",
       "      <td>@teslacn Congratulations Tesla China for amazi...</td>\n",
       "      <td>104</td>\n",
       "    </tr>\n",
       "    <tr>\n",
       "      <th>5</th>\n",
       "      <td>Happy New Year of the Ox! https://t.co/9WFKMYu2oj</td>\n",
       "      <td>49</td>\n",
       "    </tr>\n",
       "    <tr>\n",
       "      <th>6</th>\n",
       "      <td>Frodo was the underdoge,\\nAll thought he would...</td>\n",
       "      <td>96</td>\n",
       "    </tr>\n",
       "    <tr>\n",
       "      <th>7</th>\n",
       "      <td>@OwenSparks_ @flcnhvy @anonyx10 Haha thanks :)</td>\n",
       "      <td>46</td>\n",
       "    </tr>\n",
       "    <tr>\n",
       "      <th>8</th>\n",
       "      <td>@flcnhvy @anonyx10 Indeed! Tweets definitely d...</td>\n",
       "      <td>89</td>\n",
       "    </tr>\n",
       "    <tr>\n",
       "      <th>9</th>\n",
       "      <td>The most entertaining outcome is the most likely</td>\n",
       "      <td>48</td>\n",
       "    </tr>\n",
       "  </tbody>\n",
       "</table>\n",
       "</div>"
      ],
      "text/plain": [
       "                                                Text  char_count\n",
       "0                             @kunalb11 Im an alien          22\n",
       "1  @ID_AA_Carmack Ray tracing on Cyberpunk with H...          82\n",
       "2                @joerogan @Spotify Great interview!          35\n",
       "3                    @gtera27 Doge is underestimated          31\n",
       "4  @teslacn Congratulations Tesla China for amazi...         104\n",
       "5  Happy New Year of the Ox! https://t.co/9WFKMYu2oj          49\n",
       "6  Frodo was the underdoge,\\nAll thought he would...          96\n",
       "7     @OwenSparks_ @flcnhvy @anonyx10 Haha thanks :)          46\n",
       "8  @flcnhvy @anonyx10 Indeed! Tweets definitely d...          89\n",
       "9   The most entertaining outcome is the most likely          48"
      ]
     },
     "execution_count": 15,
     "metadata": {},
     "output_type": "execute_result"
    }
   ],
   "source": [
    "# number of characters in single tweet\n",
    "data['char_count'] = data['Text'].str.len()\n",
    "data[['Text','char_count']].head(10)"
   ]
  },
  {
   "cell_type": "code",
   "execution_count": 16,
   "id": "12d0ffa8",
   "metadata": {},
   "outputs": [
    {
     "data": {
      "text/html": [
       "<div>\n",
       "<style scoped>\n",
       "    .dataframe tbody tr th:only-of-type {\n",
       "        vertical-align: middle;\n",
       "    }\n",
       "\n",
       "    .dataframe tbody tr th {\n",
       "        vertical-align: top;\n",
       "    }\n",
       "\n",
       "    .dataframe thead th {\n",
       "        text-align: right;\n",
       "    }\n",
       "</style>\n",
       "<table border=\"1\" class=\"dataframe\">\n",
       "  <thead>\n",
       "    <tr style=\"text-align: right;\">\n",
       "      <th></th>\n",
       "      <th>Text</th>\n",
       "      <th>avg_word</th>\n",
       "    </tr>\n",
       "  </thead>\n",
       "  <tbody>\n",
       "    <tr>\n",
       "      <th>0</th>\n",
       "      <td>@kunalb11 Im an alien</td>\n",
       "      <td>4.750000</td>\n",
       "    </tr>\n",
       "    <tr>\n",
       "      <th>1</th>\n",
       "      <td>@ID_AA_Carmack Ray tracing on Cyberpunk with H...</td>\n",
       "      <td>5.384615</td>\n",
       "    </tr>\n",
       "    <tr>\n",
       "      <th>2</th>\n",
       "      <td>@joerogan @Spotify Great interview!</td>\n",
       "      <td>8.000000</td>\n",
       "    </tr>\n",
       "    <tr>\n",
       "      <th>3</th>\n",
       "      <td>@gtera27 Doge is underestimated</td>\n",
       "      <td>7.000000</td>\n",
       "    </tr>\n",
       "    <tr>\n",
       "      <th>4</th>\n",
       "      <td>@teslacn Congratulations Tesla China for amazi...</td>\n",
       "      <td>5.176471</td>\n",
       "    </tr>\n",
       "    <tr>\n",
       "      <th>5</th>\n",
       "      <td>Happy New Year of the Ox! https://t.co/9WFKMYu2oj</td>\n",
       "      <td>6.142857</td>\n",
       "    </tr>\n",
       "    <tr>\n",
       "      <th>6</th>\n",
       "      <td>Frodo was the underdoge,\\nAll thought he would...</td>\n",
       "      <td>5.928571</td>\n",
       "    </tr>\n",
       "    <tr>\n",
       "      <th>7</th>\n",
       "      <td>@OwenSparks_ @flcnhvy @anonyx10 Haha thanks :)</td>\n",
       "      <td>6.833333</td>\n",
       "    </tr>\n",
       "    <tr>\n",
       "      <th>8</th>\n",
       "      <td>@flcnhvy @anonyx10 Indeed! Tweets definitely d...</td>\n",
       "      <td>7.181818</td>\n",
       "    </tr>\n",
       "    <tr>\n",
       "      <th>9</th>\n",
       "      <td>The most entertaining outcome is the most likely</td>\n",
       "      <td>5.125000</td>\n",
       "    </tr>\n",
       "  </tbody>\n",
       "</table>\n",
       "</div>"
      ],
      "text/plain": [
       "                                                Text  avg_word\n",
       "0                             @kunalb11 Im an alien  4.750000\n",
       "1  @ID_AA_Carmack Ray tracing on Cyberpunk with H...  5.384615\n",
       "2                @joerogan @Spotify Great interview!  8.000000\n",
       "3                    @gtera27 Doge is underestimated  7.000000\n",
       "4  @teslacn Congratulations Tesla China for amazi...  5.176471\n",
       "5  Happy New Year of the Ox! https://t.co/9WFKMYu2oj  6.142857\n",
       "6  Frodo was the underdoge,\\nAll thought he would...  5.928571\n",
       "7     @OwenSparks_ @flcnhvy @anonyx10 Haha thanks :)  6.833333\n",
       "8  @flcnhvy @anonyx10 Indeed! Tweets definitely d...  7.181818\n",
       "9   The most entertaining outcome is the most likely  5.125000"
      ]
     },
     "execution_count": 16,
     "metadata": {},
     "output_type": "execute_result"
    }
   ],
   "source": [
    "#the average word\n",
    "def avg_word(sentence):\n",
    "  words = sentence.split()\n",
    "  return (sum(len(word) for word in words)/len(words))\n",
    "\n",
    "data['avg_word'] = data['Text'].apply(lambda x: avg_word(x))\n",
    "data[['Text','avg_word']].head(10)"
   ]
  },
  {
   "cell_type": "code",
   "execution_count": 17,
   "id": "dbb9b5d1",
   "metadata": {},
   "outputs": [
    {
     "data": {
      "text/html": [
       "<div>\n",
       "<style scoped>\n",
       "    .dataframe tbody tr th:only-of-type {\n",
       "        vertical-align: middle;\n",
       "    }\n",
       "\n",
       "    .dataframe tbody tr th {\n",
       "        vertical-align: top;\n",
       "    }\n",
       "\n",
       "    .dataframe thead th {\n",
       "        text-align: right;\n",
       "    }\n",
       "</style>\n",
       "<table border=\"1\" class=\"dataframe\">\n",
       "  <thead>\n",
       "    <tr style=\"text-align: right;\">\n",
       "      <th></th>\n",
       "      <th>Text</th>\n",
       "      <th>stopwords</th>\n",
       "    </tr>\n",
       "  </thead>\n",
       "  <tbody>\n",
       "    <tr>\n",
       "      <th>0</th>\n",
       "      <td>@kunalb11 Im an alien</td>\n",
       "      <td>1</td>\n",
       "    </tr>\n",
       "    <tr>\n",
       "      <th>1</th>\n",
       "      <td>@ID_AA_Carmack Ray tracing on Cyberpunk with H...</td>\n",
       "      <td>4</td>\n",
       "    </tr>\n",
       "    <tr>\n",
       "      <th>2</th>\n",
       "      <td>@joerogan @Spotify Great interview!</td>\n",
       "      <td>0</td>\n",
       "    </tr>\n",
       "    <tr>\n",
       "      <th>3</th>\n",
       "      <td>@gtera27 Doge is underestimated</td>\n",
       "      <td>1</td>\n",
       "    </tr>\n",
       "    <tr>\n",
       "      <th>4</th>\n",
       "      <td>@teslacn Congratulations Tesla China for amazi...</td>\n",
       "      <td>5</td>\n",
       "    </tr>\n",
       "    <tr>\n",
       "      <th>5</th>\n",
       "      <td>Happy New Year of the Ox! https://t.co/9WFKMYu2oj</td>\n",
       "      <td>2</td>\n",
       "    </tr>\n",
       "    <tr>\n",
       "      <th>6</th>\n",
       "      <td>Frodo was the underdoge,\\nAll thought he would...</td>\n",
       "      <td>5</td>\n",
       "    </tr>\n",
       "    <tr>\n",
       "      <th>7</th>\n",
       "      <td>@OwenSparks_ @flcnhvy @anonyx10 Haha thanks :)</td>\n",
       "      <td>0</td>\n",
       "    </tr>\n",
       "    <tr>\n",
       "      <th>8</th>\n",
       "      <td>@flcnhvy @anonyx10 Indeed! Tweets definitely d...</td>\n",
       "      <td>2</td>\n",
       "    </tr>\n",
       "    <tr>\n",
       "      <th>9</th>\n",
       "      <td>The most entertaining outcome is the most likely</td>\n",
       "      <td>4</td>\n",
       "    </tr>\n",
       "  </tbody>\n",
       "</table>\n",
       "</div>"
      ],
      "text/plain": [
       "                                                Text  stopwords\n",
       "0                             @kunalb11 Im an alien          1\n",
       "1  @ID_AA_Carmack Ray tracing on Cyberpunk with H...          4\n",
       "2                @joerogan @Spotify Great interview!          0\n",
       "3                    @gtera27 Doge is underestimated          1\n",
       "4  @teslacn Congratulations Tesla China for amazi...          5\n",
       "5  Happy New Year of the Ox! https://t.co/9WFKMYu2oj          2\n",
       "6  Frodo was the underdoge,\\nAll thought he would...          5\n",
       "7     @OwenSparks_ @flcnhvy @anonyx10 Haha thanks :)          0\n",
       "8  @flcnhvy @anonyx10 Indeed! Tweets definitely d...          2\n",
       "9   The most entertaining outcome is the most likely          4"
      ]
     },
     "execution_count": 17,
     "metadata": {},
     "output_type": "execute_result"
    }
   ],
   "source": [
    "#the number of stop words\n",
    "\n",
    "stop = stopwords.words('english')\n",
    "\n",
    "data['stopwords'] = data['Text'].apply(lambda x: len([x for x in x.split() if x in stop]))\n",
    "data[['Text','stopwords']].head(10)\n"
   ]
  },
  {
   "cell_type": "code",
   "execution_count": 18,
   "id": "0bc5fa1b",
   "metadata": {},
   "outputs": [
    {
     "data": {
      "text/html": [
       "<div>\n",
       "<style scoped>\n",
       "    .dataframe tbody tr th:only-of-type {\n",
       "        vertical-align: middle;\n",
       "    }\n",
       "\n",
       "    .dataframe tbody tr th {\n",
       "        vertical-align: top;\n",
       "    }\n",
       "\n",
       "    .dataframe thead th {\n",
       "        text-align: right;\n",
       "    }\n",
       "</style>\n",
       "<table border=\"1\" class=\"dataframe\">\n",
       "  <thead>\n",
       "    <tr style=\"text-align: right;\">\n",
       "      <th></th>\n",
       "      <th>Text</th>\n",
       "      <th>hastags</th>\n",
       "    </tr>\n",
       "  </thead>\n",
       "  <tbody>\n",
       "    <tr>\n",
       "      <th>0</th>\n",
       "      <td>@kunalb11 Im an alien</td>\n",
       "      <td>1</td>\n",
       "    </tr>\n",
       "    <tr>\n",
       "      <th>1</th>\n",
       "      <td>@ID_AA_Carmack Ray tracing on Cyberpunk with H...</td>\n",
       "      <td>1</td>\n",
       "    </tr>\n",
       "    <tr>\n",
       "      <th>2</th>\n",
       "      <td>@joerogan @Spotify Great interview!</td>\n",
       "      <td>2</td>\n",
       "    </tr>\n",
       "    <tr>\n",
       "      <th>3</th>\n",
       "      <td>@gtera27 Doge is underestimated</td>\n",
       "      <td>1</td>\n",
       "    </tr>\n",
       "    <tr>\n",
       "      <th>4</th>\n",
       "      <td>@teslacn Congratulations Tesla China for amazi...</td>\n",
       "      <td>1</td>\n",
       "    </tr>\n",
       "    <tr>\n",
       "      <th>5</th>\n",
       "      <td>Happy New Year of the Ox! https://t.co/9WFKMYu2oj</td>\n",
       "      <td>0</td>\n",
       "    </tr>\n",
       "    <tr>\n",
       "      <th>6</th>\n",
       "      <td>Frodo was the underdoge,\\nAll thought he would...</td>\n",
       "      <td>0</td>\n",
       "    </tr>\n",
       "    <tr>\n",
       "      <th>7</th>\n",
       "      <td>@OwenSparks_ @flcnhvy @anonyx10 Haha thanks :)</td>\n",
       "      <td>3</td>\n",
       "    </tr>\n",
       "    <tr>\n",
       "      <th>8</th>\n",
       "      <td>@flcnhvy @anonyx10 Indeed! Tweets definitely d...</td>\n",
       "      <td>2</td>\n",
       "    </tr>\n",
       "    <tr>\n",
       "      <th>9</th>\n",
       "      <td>The most entertaining outcome is the most likely</td>\n",
       "      <td>0</td>\n",
       "    </tr>\n",
       "  </tbody>\n",
       "</table>\n",
       "</div>"
      ],
      "text/plain": [
       "                                                Text  hastags\n",
       "0                             @kunalb11 Im an alien        1\n",
       "1  @ID_AA_Carmack Ray tracing on Cyberpunk with H...        1\n",
       "2                @joerogan @Spotify Great interview!        2\n",
       "3                    @gtera27 Doge is underestimated        1\n",
       "4  @teslacn Congratulations Tesla China for amazi...        1\n",
       "5  Happy New Year of the Ox! https://t.co/9WFKMYu2oj        0\n",
       "6  Frodo was the underdoge,\\nAll thought he would...        0\n",
       "7     @OwenSparks_ @flcnhvy @anonyx10 Haha thanks :)        3\n",
       "8  @flcnhvy @anonyx10 Indeed! Tweets definitely d...        2\n",
       "9   The most entertaining outcome is the most likely        0"
      ]
     },
     "execution_count": 18,
     "metadata": {},
     "output_type": "execute_result"
    }
   ],
   "source": [
    "# the number of special characters\n",
    "data['hastags'] = data['Text'].apply(lambda x: len([x for x in x.split() if x.startswith('@')]))\n",
    "data[['Text','hastags']].head(10)"
   ]
  },
  {
   "cell_type": "code",
   "execution_count": 19,
   "id": "ddec4b9a",
   "metadata": {},
   "outputs": [
    {
     "data": {
      "text/html": [
       "<div>\n",
       "<style scoped>\n",
       "    .dataframe tbody tr th:only-of-type {\n",
       "        vertical-align: middle;\n",
       "    }\n",
       "\n",
       "    .dataframe tbody tr th {\n",
       "        vertical-align: top;\n",
       "    }\n",
       "\n",
       "    .dataframe thead th {\n",
       "        text-align: right;\n",
       "    }\n",
       "</style>\n",
       "<table border=\"1\" class=\"dataframe\">\n",
       "  <thead>\n",
       "    <tr style=\"text-align: right;\">\n",
       "      <th></th>\n",
       "      <th>Text</th>\n",
       "      <th>numerics</th>\n",
       "    </tr>\n",
       "  </thead>\n",
       "  <tbody>\n",
       "    <tr>\n",
       "      <th>0</th>\n",
       "      <td>@kunalb11 Im an alien</td>\n",
       "      <td>0</td>\n",
       "    </tr>\n",
       "    <tr>\n",
       "      <th>1</th>\n",
       "      <td>@ID_AA_Carmack Ray tracing on Cyberpunk with H...</td>\n",
       "      <td>0</td>\n",
       "    </tr>\n",
       "    <tr>\n",
       "      <th>2</th>\n",
       "      <td>@joerogan @Spotify Great interview!</td>\n",
       "      <td>0</td>\n",
       "    </tr>\n",
       "    <tr>\n",
       "      <th>3</th>\n",
       "      <td>@gtera27 Doge is underestimated</td>\n",
       "      <td>0</td>\n",
       "    </tr>\n",
       "    <tr>\n",
       "      <th>4</th>\n",
       "      <td>@teslacn Congratulations Tesla China for amazi...</td>\n",
       "      <td>0</td>\n",
       "    </tr>\n",
       "    <tr>\n",
       "      <th>5</th>\n",
       "      <td>Happy New Year of the Ox! https://t.co/9WFKMYu2oj</td>\n",
       "      <td>0</td>\n",
       "    </tr>\n",
       "    <tr>\n",
       "      <th>6</th>\n",
       "      <td>Frodo was the underdoge,\\nAll thought he would...</td>\n",
       "      <td>0</td>\n",
       "    </tr>\n",
       "    <tr>\n",
       "      <th>7</th>\n",
       "      <td>@OwenSparks_ @flcnhvy @anonyx10 Haha thanks :)</td>\n",
       "      <td>0</td>\n",
       "    </tr>\n",
       "    <tr>\n",
       "      <th>8</th>\n",
       "      <td>@flcnhvy @anonyx10 Indeed! Tweets definitely d...</td>\n",
       "      <td>0</td>\n",
       "    </tr>\n",
       "    <tr>\n",
       "      <th>9</th>\n",
       "      <td>The most entertaining outcome is the most likely</td>\n",
       "      <td>0</td>\n",
       "    </tr>\n",
       "  </tbody>\n",
       "</table>\n",
       "</div>"
      ],
      "text/plain": [
       "                                                Text  numerics\n",
       "0                             @kunalb11 Im an alien         0\n",
       "1  @ID_AA_Carmack Ray tracing on Cyberpunk with H...         0\n",
       "2                @joerogan @Spotify Great interview!         0\n",
       "3                    @gtera27 Doge is underestimated         0\n",
       "4  @teslacn Congratulations Tesla China for amazi...         0\n",
       "5  Happy New Year of the Ox! https://t.co/9WFKMYu2oj         0\n",
       "6  Frodo was the underdoge,\\nAll thought he would...         0\n",
       "7     @OwenSparks_ @flcnhvy @anonyx10 Haha thanks :)         0\n",
       "8  @flcnhvy @anonyx10 Indeed! Tweets definitely d...         0\n",
       "9   The most entertaining outcome is the most likely         0"
      ]
     },
     "execution_count": 19,
     "metadata": {},
     "output_type": "execute_result"
    }
   ],
   "source": [
    "#numerical values\n",
    "data['numerics'] = data['Text'].apply(lambda x: len([x for x in x.split() if x.isdigit()]))\n",
    "data[['Text','numerics']].head(10)"
   ]
  },
  {
   "cell_type": "code",
   "execution_count": 20,
   "id": "024aac79",
   "metadata": {},
   "outputs": [
    {
     "data": {
      "text/html": [
       "<div>\n",
       "<style scoped>\n",
       "    .dataframe tbody tr th:only-of-type {\n",
       "        vertical-align: middle;\n",
       "    }\n",
       "\n",
       "    .dataframe tbody tr th {\n",
       "        vertical-align: top;\n",
       "    }\n",
       "\n",
       "    .dataframe thead th {\n",
       "        text-align: right;\n",
       "    }\n",
       "</style>\n",
       "<table border=\"1\" class=\"dataframe\">\n",
       "  <thead>\n",
       "    <tr style=\"text-align: right;\">\n",
       "      <th></th>\n",
       "      <th>Text</th>\n",
       "      <th>upper</th>\n",
       "    </tr>\n",
       "  </thead>\n",
       "  <tbody>\n",
       "    <tr>\n",
       "      <th>0</th>\n",
       "      <td>@kunalb11 Im an alien</td>\n",
       "      <td>0</td>\n",
       "    </tr>\n",
       "    <tr>\n",
       "      <th>1</th>\n",
       "      <td>@ID_AA_Carmack Ray tracing on Cyberpunk with H...</td>\n",
       "      <td>1</td>\n",
       "    </tr>\n",
       "    <tr>\n",
       "      <th>2</th>\n",
       "      <td>@joerogan @Spotify Great interview!</td>\n",
       "      <td>0</td>\n",
       "    </tr>\n",
       "    <tr>\n",
       "      <th>3</th>\n",
       "      <td>@gtera27 Doge is underestimated</td>\n",
       "      <td>0</td>\n",
       "    </tr>\n",
       "    <tr>\n",
       "      <th>4</th>\n",
       "      <td>@teslacn Congratulations Tesla China for amazi...</td>\n",
       "      <td>0</td>\n",
       "    </tr>\n",
       "    <tr>\n",
       "      <th>5</th>\n",
       "      <td>Happy New Year of the Ox! https://t.co/9WFKMYu2oj</td>\n",
       "      <td>0</td>\n",
       "    </tr>\n",
       "    <tr>\n",
       "      <th>6</th>\n",
       "      <td>Frodo was the underdoge,\\nAll thought he would...</td>\n",
       "      <td>0</td>\n",
       "    </tr>\n",
       "    <tr>\n",
       "      <th>7</th>\n",
       "      <td>@OwenSparks_ @flcnhvy @anonyx10 Haha thanks :)</td>\n",
       "      <td>0</td>\n",
       "    </tr>\n",
       "    <tr>\n",
       "      <th>8</th>\n",
       "      <td>@flcnhvy @anonyx10 Indeed! Tweets definitely d...</td>\n",
       "      <td>0</td>\n",
       "    </tr>\n",
       "    <tr>\n",
       "      <th>9</th>\n",
       "      <td>The most entertaining outcome is the most likely</td>\n",
       "      <td>0</td>\n",
       "    </tr>\n",
       "  </tbody>\n",
       "</table>\n",
       "</div>"
      ],
      "text/plain": [
       "                                                Text  upper\n",
       "0                             @kunalb11 Im an alien      0\n",
       "1  @ID_AA_Carmack Ray tracing on Cyberpunk with H...      1\n",
       "2                @joerogan @Spotify Great interview!      0\n",
       "3                    @gtera27 Doge is underestimated      0\n",
       "4  @teslacn Congratulations Tesla China for amazi...      0\n",
       "5  Happy New Year of the Ox! https://t.co/9WFKMYu2oj      0\n",
       "6  Frodo was the underdoge,\\nAll thought he would...      0\n",
       "7     @OwenSparks_ @flcnhvy @anonyx10 Haha thanks :)      0\n",
       "8  @flcnhvy @anonyx10 Indeed! Tweets definitely d...      0\n",
       "9   The most entertaining outcome is the most likely      0"
      ]
     },
     "execution_count": 20,
     "metadata": {},
     "output_type": "execute_result"
    }
   ],
   "source": [
    "data['upper'] = data['Text'].apply(lambda x: len([x for x in x.split() if x.isupper()]))\n",
    "data[['Text','upper']].head(10)"
   ]
  },
  {
   "cell_type": "code",
   "execution_count": 21,
   "id": "11b002cd",
   "metadata": {},
   "outputs": [
    {
     "data": {
      "text/plain": [
       "0                               @kunalb11 im an alien\n",
       "1    @id_aa_carmack ray tracing on cyberpunk with h...\n",
       "2                  @joerogan @spotify great interview!\n",
       "3                      @gtera27 doge is underestimated\n",
       "4    @teslacn congratulations tesla china for amazi...\n",
       "Name: Text, dtype: object"
      ]
     },
     "execution_count": 21,
     "metadata": {},
     "output_type": "execute_result"
    }
   ],
   "source": [
    "data['Text'] = data['Text'].apply(lambda x: \" \".join(x.lower() for x in x.split()))\n",
    "data['Text'].head()"
   ]
  },
  {
   "cell_type": "code",
   "execution_count": 22,
   "id": "463dbe28",
   "metadata": {},
   "outputs": [
    {
     "name": "stderr",
     "output_type": "stream",
     "text": [
      "C:\\Users\\Anup sharma\\AppData\\Local\\Temp\\ipykernel_5364\\3940707309.py:2: FutureWarning: The default value of regex will change from True to False in a future version.\n",
      "  data['Text'] = data['Text'].str.replace('[^\\w\\s]','')\n"
     ]
    },
    {
     "data": {
      "text/plain": [
       "0                                 kunalb11 im an alien\n",
       "1    id_aa_carmack ray tracing on cyberpunk with hd...\n",
       "2                     joerogan spotify great interview\n",
       "3                       gtera27 doge is underestimated\n",
       "4    teslacn congratulations tesla china for amazin...\n",
       "Name: Text, dtype: object"
      ]
     },
     "execution_count": 22,
     "metadata": {},
     "output_type": "execute_result"
    }
   ],
   "source": [
    "#Removing punctuation\n",
    "data['Text'] = data['Text'].str.replace('[^\\w\\s]','')\n",
    "data['Text'].head()"
   ]
  },
  {
   "cell_type": "code",
   "execution_count": 23,
   "id": "84c6785d",
   "metadata": {},
   "outputs": [
    {
     "data": {
      "text/plain": [
       "0                                    kunalb11 im alien\n",
       "1    id_aa_carmack ray tracing cyberpunk hdr nextle...\n",
       "2                     joerogan spotify great interview\n",
       "3                          gtera27 doge underestimated\n",
       "4    teslacn congratulations tesla china amazing ex...\n",
       "Name: Text, dtype: object"
      ]
     },
     "execution_count": 23,
     "metadata": {},
     "output_type": "execute_result"
    }
   ],
   "source": [
    "#Removing stop words\n",
    "stop = stopwords.words('english')\n",
    "data['Text'] = data['Text'].apply(lambda x: \" \".join(x for x in x.split() if x not in stop))\n",
    "data['Text'].head()"
   ]
  },
  {
   "cell_type": "code",
   "execution_count": 24,
   "id": "f20a5fc5",
   "metadata": {},
   "outputs": [
    {
     "data": {
      "text/plain": [
       "spacex            239\n",
       "amp               218\n",
       "tesla             166\n",
       "erdayastronaut    142\n",
       "rt                127\n",
       "ppathole          123\n",
       "flcnhvy           114\n",
       "yes                86\n",
       "great              76\n",
       "teslaownerssv      73\n",
       "dtype: int64"
      ]
     },
     "execution_count": 24,
     "metadata": {},
     "output_type": "execute_result"
    }
   ],
   "source": [
    "#Removing common words\n",
    "freq = pd.Series(' '.join(data['Text']).split()).value_counts()[:10]\n",
    "freq"
   ]
  },
  {
   "cell_type": "code",
   "execution_count": 25,
   "id": "ee7b27ae",
   "metadata": {},
   "outputs": [
    {
     "data": {
      "text/plain": [
       "0                                    kunalb11 im alien\n",
       "1    id_aa_carmack ray tracing cyberpunk hdr nextle...\n",
       "2                           joerogan spotify interview\n",
       "3                          gtera27 doge underestimated\n",
       "4    teslacn congratulations china amazing executio...\n",
       "Name: Text, dtype: object"
      ]
     },
     "execution_count": 25,
     "metadata": {},
     "output_type": "execute_result"
    }
   ],
   "source": [
    "freq = list(freq.index)\n",
    "data['Text'] = data['Text'].apply(lambda x: \" \".join(x for x in x.split() if x not in freq))\n",
    "data['Text'].head()"
   ]
  },
  {
   "cell_type": "code",
   "execution_count": 26,
   "id": "52e85464",
   "metadata": {},
   "outputs": [
    {
     "data": {
      "text/plain": [
       "nyquil                1\n",
       "musk                  1\n",
       "negati                1\n",
       "httpstco6ohta09s5l    1\n",
       "carousel              1\n",
       "joeingeneral          1\n",
       "andrewbogut           1\n",
       "typical               1\n",
       "unusual               1\n",
       "altho                 1\n",
       "dtype: int64"
      ]
     },
     "execution_count": 26,
     "metadata": {},
     "output_type": "execute_result"
    }
   ],
   "source": [
    "#Removing rare words\n",
    "freq = pd.Series(' '.join(data['Text']).split()).value_counts()[-10:]\n",
    "freq"
   ]
  },
  {
   "cell_type": "code",
   "execution_count": 27,
   "id": "6003f80c",
   "metadata": {},
   "outputs": [
    {
     "data": {
      "text/plain": [
       "0                                    kunalb11 im alien\n",
       "1    id_aa_carmack ray tracing cyberpunk hdr nextle...\n",
       "2                           joerogan spotify interview\n",
       "3                          gtera27 doge underestimated\n",
       "4    teslacn congratulations china amazing executio...\n",
       "Name: Text, dtype: object"
      ]
     },
     "execution_count": 27,
     "metadata": {},
     "output_type": "execute_result"
    }
   ],
   "source": [
    "freq = list(freq.index)\n",
    "data['Text'] = data['Text'].apply(lambda x: \" \".join(x for x in x.split() if x not in freq))\n",
    "data['Text'].head()"
   ]
  },
  {
   "cell_type": "code",
   "execution_count": 28,
   "id": "93811d3b",
   "metadata": {},
   "outputs": [
    {
     "data": {
      "text/plain": [
       "0                                    kunalb11 in alien\n",
       "1    id_aa_carmack ray tracing cyberpunk her nextle...\n",
       "2                           joerogan specify interview\n",
       "3                          gtera27 done underestimated\n",
       "4    teslacn congratulations china amazing executio...\n",
       "Name: Text, dtype: object"
      ]
     },
     "execution_count": 28,
     "metadata": {},
     "output_type": "execute_result"
    }
   ],
   "source": [
    "data['Text'][:5].apply(lambda x: str(TextBlob(x).correct()))"
   ]
  },
  {
   "cell_type": "code",
   "execution_count": 29,
   "id": "667615d1",
   "metadata": {},
   "outputs": [
    {
     "data": {
      "text/plain": [
       "WordList(['id_aa_carmack', 'ray', 'tracing', 'cyberpunk', 'hdr', 'nextlevel', 'tried'])"
      ]
     },
     "execution_count": 29,
     "metadata": {},
     "output_type": "execute_result"
    }
   ],
   "source": [
    "TextBlob(data['Text'][1]).words"
   ]
  },
  {
   "cell_type": "code",
   "execution_count": 30,
   "id": "9472e049",
   "metadata": {},
   "outputs": [
    {
     "data": {
      "text/plain": [
       "0                                    kunalb11 im alien\n",
       "1    id_aa_carmack ray trace cyberpunk hdr nextleve...\n",
       "2                           joerogan spotifi interview\n",
       "3                              gtera27 doge underestim\n",
       "4    teslacn congratul china amaz execut last year ...\n",
       "Name: Text, dtype: object"
      ]
     },
     "execution_count": 30,
     "metadata": {},
     "output_type": "execute_result"
    }
   ],
   "source": [
    "from nltk.stem import PorterStemmer\n",
    "st = PorterStemmer()\n",
    "data['Text'][:5].apply(lambda x: \" \".join([st.stem(word) for word in x.split()]))"
   ]
  },
  {
   "cell_type": "code",
   "execution_count": 31,
   "id": "a2887e37",
   "metadata": {},
   "outputs": [
    {
     "name": "stderr",
     "output_type": "stream",
     "text": [
      "[nltk_data] Downloading package wordnet to C:\\Users\\Anup\n",
      "[nltk_data]     sharma\\AppData\\Roaming\\nltk_data...\n",
      "[nltk_data]   Package wordnet is already up-to-date!\n"
     ]
    },
    {
     "data": {
      "text/plain": [
       "0                                    kunalb11 im alien\n",
       "1    id_aa_carmack ray tracing cyberpunk hdr nextle...\n",
       "2                           joerogan spotify interview\n",
       "3                          gtera27 doge underestimated\n",
       "4    teslacn congratulation china amazing execution...\n",
       "Name: Text, dtype: object"
      ]
     },
     "execution_count": 31,
     "metadata": {},
     "output_type": "execute_result"
    }
   ],
   "source": [
    "import nltk\n",
    "nltk.download('wordnet')\n",
    "\n",
    "data['Text'] = data['Text'].apply(lambda x: \" \".join([Word(word).lemmatize() for word in x.split()]))\n",
    "data['Text'].head()"
   ]
  },
  {
   "cell_type": "code",
   "execution_count": 32,
   "id": "a3a107bf",
   "metadata": {},
   "outputs": [
    {
     "data": {
      "text/plain": [
       "[WordList(['kunalb11', 'im']), WordList(['im', 'alien'])]"
      ]
     },
     "execution_count": 32,
     "metadata": {},
     "output_type": "execute_result"
    }
   ],
   "source": [
    "TextBlob(data['Text'][0]).ngrams(2)"
   ]
  },
  {
   "cell_type": "code",
   "execution_count": 33,
   "id": "b4050c16",
   "metadata": {},
   "outputs": [
    {
     "data": {
      "text/html": [
       "<div>\n",
       "<style scoped>\n",
       "    .dataframe tbody tr th:only-of-type {\n",
       "        vertical-align: middle;\n",
       "    }\n",
       "\n",
       "    .dataframe tbody tr th {\n",
       "        vertical-align: top;\n",
       "    }\n",
       "\n",
       "    .dataframe thead th {\n",
       "        text-align: right;\n",
       "    }\n",
       "</style>\n",
       "<table border=\"1\" class=\"dataframe\">\n",
       "  <thead>\n",
       "    <tr style=\"text-align: right;\">\n",
       "      <th></th>\n",
       "      <th>words</th>\n",
       "      <th>tf</th>\n",
       "    </tr>\n",
       "  </thead>\n",
       "  <tbody>\n",
       "    <tr>\n",
       "      <th>0</th>\n",
       "      <td>id_aa_carmack</td>\n",
       "      <td>1</td>\n",
       "    </tr>\n",
       "    <tr>\n",
       "      <th>1</th>\n",
       "      <td>ray</td>\n",
       "      <td>1</td>\n",
       "    </tr>\n",
       "    <tr>\n",
       "      <th>2</th>\n",
       "      <td>tracing</td>\n",
       "      <td>1</td>\n",
       "    </tr>\n",
       "    <tr>\n",
       "      <th>3</th>\n",
       "      <td>cyberpunk</td>\n",
       "      <td>1</td>\n",
       "    </tr>\n",
       "    <tr>\n",
       "      <th>4</th>\n",
       "      <td>hdr</td>\n",
       "      <td>1</td>\n",
       "    </tr>\n",
       "    <tr>\n",
       "      <th>5</th>\n",
       "      <td>nextlevel</td>\n",
       "      <td>1</td>\n",
       "    </tr>\n",
       "    <tr>\n",
       "      <th>6</th>\n",
       "      <td>tried</td>\n",
       "      <td>1</td>\n",
       "    </tr>\n",
       "  </tbody>\n",
       "</table>\n",
       "</div>"
      ],
      "text/plain": [
       "           words  tf\n",
       "0  id_aa_carmack   1\n",
       "1            ray   1\n",
       "2        tracing   1\n",
       "3      cyberpunk   1\n",
       "4            hdr   1\n",
       "5      nextlevel   1\n",
       "6          tried   1"
      ]
     },
     "execution_count": 33,
     "metadata": {},
     "output_type": "execute_result"
    }
   ],
   "source": [
    "t1 = (data['Text'][1:2]).apply(lambda x: pd.value_counts(x.split(\" \"))).sum(axis = 0).reset_index()\n",
    "t1.columns = ['words','tf']\n",
    "t1"
   ]
  },
  {
   "cell_type": "code",
   "execution_count": 35,
   "id": "eb8eba7b",
   "metadata": {},
   "outputs": [
    {
     "data": {
      "text/html": [
       "<div>\n",
       "<style scoped>\n",
       "    .dataframe tbody tr th:only-of-type {\n",
       "        vertical-align: middle;\n",
       "    }\n",
       "\n",
       "    .dataframe tbody tr th {\n",
       "        vertical-align: top;\n",
       "    }\n",
       "\n",
       "    .dataframe thead th {\n",
       "        text-align: right;\n",
       "    }\n",
       "</style>\n",
       "<table border=\"1\" class=\"dataframe\">\n",
       "  <thead>\n",
       "    <tr style=\"text-align: right;\">\n",
       "      <th></th>\n",
       "      <th>words</th>\n",
       "      <th>tf</th>\n",
       "      <th>idf</th>\n",
       "    </tr>\n",
       "  </thead>\n",
       "  <tbody>\n",
       "    <tr>\n",
       "      <th>0</th>\n",
       "      <td>id_aa_carmack</td>\n",
       "      <td>1</td>\n",
       "      <td>4.165414</td>\n",
       "    </tr>\n",
       "    <tr>\n",
       "      <th>1</th>\n",
       "      <td>ray</td>\n",
       "      <td>1</td>\n",
       "      <td>5.034452</td>\n",
       "    </tr>\n",
       "    <tr>\n",
       "      <th>2</th>\n",
       "      <td>tracing</td>\n",
       "      <td>1</td>\n",
       "      <td>7.599401</td>\n",
       "    </tr>\n",
       "    <tr>\n",
       "      <th>3</th>\n",
       "      <td>cyberpunk</td>\n",
       "      <td>1</td>\n",
       "      <td>5.114495</td>\n",
       "    </tr>\n",
       "    <tr>\n",
       "      <th>4</th>\n",
       "      <td>hdr</td>\n",
       "      <td>1</td>\n",
       "      <td>6.906254</td>\n",
       "    </tr>\n",
       "    <tr>\n",
       "      <th>5</th>\n",
       "      <td>nextlevel</td>\n",
       "      <td>1</td>\n",
       "      <td>6.906254</td>\n",
       "    </tr>\n",
       "    <tr>\n",
       "      <th>6</th>\n",
       "      <td>tried</td>\n",
       "      <td>1</td>\n",
       "      <td>5.807642</td>\n",
       "    </tr>\n",
       "  </tbody>\n",
       "</table>\n",
       "</div>"
      ],
      "text/plain": [
       "           words  tf       idf\n",
       "0  id_aa_carmack   1  4.165414\n",
       "1            ray   1  5.034452\n",
       "2        tracing   1  7.599401\n",
       "3      cyberpunk   1  5.114495\n",
       "4            hdr   1  6.906254\n",
       "5      nextlevel   1  6.906254\n",
       "6          tried   1  5.807642"
      ]
     },
     "execution_count": 35,
     "metadata": {},
     "output_type": "execute_result"
    }
   ],
   "source": [
    "for i,word in enumerate(t1['words']):\n",
    "  t1.loc[i, 'idf'] = np.log(data.shape[0]/(len(data[data['Text'].str.contains(word)])))\n",
    "\n",
    "t1"
   ]
  },
  {
   "cell_type": "code",
   "execution_count": 36,
   "id": "d0305200",
   "metadata": {},
   "outputs": [
    {
     "data": {
      "text/html": [
       "<div>\n",
       "<style scoped>\n",
       "    .dataframe tbody tr th:only-of-type {\n",
       "        vertical-align: middle;\n",
       "    }\n",
       "\n",
       "    .dataframe tbody tr th {\n",
       "        vertical-align: top;\n",
       "    }\n",
       "\n",
       "    .dataframe thead th {\n",
       "        text-align: right;\n",
       "    }\n",
       "</style>\n",
       "<table border=\"1\" class=\"dataframe\">\n",
       "  <thead>\n",
       "    <tr style=\"text-align: right;\">\n",
       "      <th></th>\n",
       "      <th>words</th>\n",
       "      <th>tf</th>\n",
       "      <th>idf</th>\n",
       "      <th>tfidf</th>\n",
       "    </tr>\n",
       "  </thead>\n",
       "  <tbody>\n",
       "    <tr>\n",
       "      <th>0</th>\n",
       "      <td>id_aa_carmack</td>\n",
       "      <td>1</td>\n",
       "      <td>4.165414</td>\n",
       "      <td>4.165414</td>\n",
       "    </tr>\n",
       "    <tr>\n",
       "      <th>1</th>\n",
       "      <td>ray</td>\n",
       "      <td>1</td>\n",
       "      <td>5.034452</td>\n",
       "      <td>5.034452</td>\n",
       "    </tr>\n",
       "    <tr>\n",
       "      <th>2</th>\n",
       "      <td>tracing</td>\n",
       "      <td>1</td>\n",
       "      <td>7.599401</td>\n",
       "      <td>7.599401</td>\n",
       "    </tr>\n",
       "    <tr>\n",
       "      <th>3</th>\n",
       "      <td>cyberpunk</td>\n",
       "      <td>1</td>\n",
       "      <td>5.114495</td>\n",
       "      <td>5.114495</td>\n",
       "    </tr>\n",
       "    <tr>\n",
       "      <th>4</th>\n",
       "      <td>hdr</td>\n",
       "      <td>1</td>\n",
       "      <td>6.906254</td>\n",
       "      <td>6.906254</td>\n",
       "    </tr>\n",
       "    <tr>\n",
       "      <th>5</th>\n",
       "      <td>nextlevel</td>\n",
       "      <td>1</td>\n",
       "      <td>6.906254</td>\n",
       "      <td>6.906254</td>\n",
       "    </tr>\n",
       "    <tr>\n",
       "      <th>6</th>\n",
       "      <td>tried</td>\n",
       "      <td>1</td>\n",
       "      <td>5.807642</td>\n",
       "      <td>5.807642</td>\n",
       "    </tr>\n",
       "  </tbody>\n",
       "</table>\n",
       "</div>"
      ],
      "text/plain": [
       "           words  tf       idf     tfidf\n",
       "0  id_aa_carmack   1  4.165414  4.165414\n",
       "1            ray   1  5.034452  5.034452\n",
       "2        tracing   1  7.599401  7.599401\n",
       "3      cyberpunk   1  5.114495  5.114495\n",
       "4            hdr   1  6.906254  6.906254\n",
       "5      nextlevel   1  6.906254  6.906254\n",
       "6          tried   1  5.807642  5.807642"
      ]
     },
     "execution_count": 36,
     "metadata": {},
     "output_type": "execute_result"
    }
   ],
   "source": [
    "t1['tfidf'] = t1['tf'] * t1['idf']\n",
    "t1\n"
   ]
  },
  {
   "cell_type": "code",
   "execution_count": 37,
   "id": "2d6fc92f",
   "metadata": {},
   "outputs": [
    {
     "data": {
      "text/plain": [
       "<1997x1000 sparse matrix of type '<class 'numpy.float64'>'\n",
       "\twith 7370 stored elements in Compressed Sparse Row format>"
      ]
     },
     "execution_count": 37,
     "metadata": {},
     "output_type": "execute_result"
    }
   ],
   "source": [
    "tfidf = TfidfVectorizer(max_features=1000, lowercase=True, analyzer='word',\n",
    " stop_words= 'english',ngram_range=(1,1))\n",
    "vect = tfidf.fit_transform(data['Text'])\n",
    "vect"
   ]
  },
  {
   "cell_type": "code",
   "execution_count": 38,
   "id": "4d6e515a",
   "metadata": {},
   "outputs": [
    {
     "data": {
      "text/plain": [
       "<1997x1000 sparse matrix of type '<class 'numpy.int64'>'\n",
       "\twith 8015 stored elements in Compressed Sparse Row format>"
      ]
     },
     "execution_count": 38,
     "metadata": {},
     "output_type": "execute_result"
    }
   ],
   "source": [
    "bow = CountVectorizer(max_features=1000, lowercase=True, ngram_range=(1,1),analyzer = \"word\")\n",
    "data_bow = bow.fit_transform(data['Text'])\n",
    "data_bow"
   ]
  },
  {
   "cell_type": "code",
   "execution_count": 39,
   "id": "0f2dd0a2",
   "metadata": {},
   "outputs": [
    {
     "data": {
      "text/plain": [
       "0                                 (-0.25, 0.75)\n",
       "1                                    (0.0, 0.0)\n",
       "2                                    (0.0, 0.0)\n",
       "3                                    (0.0, 0.0)\n",
       "4    (0.20000000000000004, 0.32222222222222224)\n",
       "Name: Text, dtype: object"
      ]
     },
     "execution_count": 39,
     "metadata": {},
     "output_type": "execute_result"
    }
   ],
   "source": [
    "data['Text'][:5].apply(lambda x: TextBlob(x).sentiment)"
   ]
  },
  {
   "cell_type": "markdown",
   "id": "f71d6231",
   "metadata": {},
   "source": [
    "# Sentiment analysis"
   ]
  },
  {
   "cell_type": "code",
   "execution_count": 40,
   "id": "71ebcd12",
   "metadata": {},
   "outputs": [
    {
     "data": {
      "text/html": [
       "<div>\n",
       "<style scoped>\n",
       "    .dataframe tbody tr th:only-of-type {\n",
       "        vertical-align: middle;\n",
       "    }\n",
       "\n",
       "    .dataframe tbody tr th {\n",
       "        vertical-align: top;\n",
       "    }\n",
       "\n",
       "    .dataframe thead th {\n",
       "        text-align: right;\n",
       "    }\n",
       "</style>\n",
       "<table border=\"1\" class=\"dataframe\">\n",
       "  <thead>\n",
       "    <tr style=\"text-align: right;\">\n",
       "      <th></th>\n",
       "      <th>Text</th>\n",
       "      <th>sentiment</th>\n",
       "    </tr>\n",
       "  </thead>\n",
       "  <tbody>\n",
       "    <tr>\n",
       "      <th>0</th>\n",
       "      <td>kunalb11 im alien</td>\n",
       "      <td>-0.250000</td>\n",
       "    </tr>\n",
       "    <tr>\n",
       "      <th>1</th>\n",
       "      <td>id_aa_carmack ray tracing cyberpunk hdr nextle...</td>\n",
       "      <td>0.000000</td>\n",
       "    </tr>\n",
       "    <tr>\n",
       "      <th>2</th>\n",
       "      <td>joerogan spotify interview</td>\n",
       "      <td>0.000000</td>\n",
       "    </tr>\n",
       "    <tr>\n",
       "      <th>3</th>\n",
       "      <td>gtera27 doge underestimated</td>\n",
       "      <td>0.000000</td>\n",
       "    </tr>\n",
       "    <tr>\n",
       "      <th>4</th>\n",
       "      <td>teslacn congratulation china amazing execution...</td>\n",
       "      <td>0.200000</td>\n",
       "    </tr>\n",
       "    <tr>\n",
       "      <th>5</th>\n",
       "      <td>happy new year ox httpstco9wfkmyu2oj</td>\n",
       "      <td>0.468182</td>\n",
       "    </tr>\n",
       "    <tr>\n",
       "      <th>6</th>\n",
       "      <td>frodo underdoge thought would fail httpstcozgx...</td>\n",
       "      <td>-0.500000</td>\n",
       "    </tr>\n",
       "    <tr>\n",
       "      <th>7</th>\n",
       "      <td>owensparks_ anonyx10 haha thanks</td>\n",
       "      <td>0.200000</td>\n",
       "    </tr>\n",
       "    <tr>\n",
       "      <th>8</th>\n",
       "      <td>anonyx10 indeed tweet definitely represent rea...</td>\n",
       "      <td>0.000000</td>\n",
       "    </tr>\n",
       "    <tr>\n",
       "      <th>9</th>\n",
       "      <td>entertaining outcome likely</td>\n",
       "      <td>0.250000</td>\n",
       "    </tr>\n",
       "  </tbody>\n",
       "</table>\n",
       "</div>"
      ],
      "text/plain": [
       "                                                Text  sentiment\n",
       "0                                  kunalb11 im alien  -0.250000\n",
       "1  id_aa_carmack ray tracing cyberpunk hdr nextle...   0.000000\n",
       "2                         joerogan spotify interview   0.000000\n",
       "3                        gtera27 doge underestimated   0.000000\n",
       "4  teslacn congratulation china amazing execution...   0.200000\n",
       "5               happy new year ox httpstco9wfkmyu2oj   0.468182\n",
       "6  frodo underdoge thought would fail httpstcozgx...  -0.500000\n",
       "7                   owensparks_ anonyx10 haha thanks   0.200000\n",
       "8  anonyx10 indeed tweet definitely represent rea...   0.000000\n",
       "9                        entertaining outcome likely   0.250000"
      ]
     },
     "execution_count": 40,
     "metadata": {},
     "output_type": "execute_result"
    }
   ],
   "source": [
    "data['sentiment'] = data['Text'].apply(lambda x: TextBlob(x).sentiment[0] )\n",
    "data[['Text','sentiment']].head(10)"
   ]
  },
  {
   "cell_type": "markdown",
   "id": "184d2d11",
   "metadata": {},
   "source": [
    "# Positive words wordcloud"
   ]
  },
  {
   "cell_type": "code",
   "execution_count": 41,
   "id": "35a0c698",
   "metadata": {},
   "outputs": [
    {
     "data": {
      "image/png": "[encoded data removed]",
      "text/plain": [
       "<Figure size 432x288 with 1 Axes>"
      ]
     },
     "metadata": {
      "needs_background": "light"
     },
     "output_type": "display_data"
    }
   ],
   "source": [
    "from wordcloud import WordCloud, STOPWORDS\n",
    "file_content=open (\"positive-words.txt\").read()\n",
    "wordcloud = WordCloud(background_color='black',\n",
    "                     width=1800,\n",
    "                     height=1400).generate(file_content)\n",
    "plt.imshow(wordcloud)\n",
    "plt.axis('off')\n",
    "plt.show()"
   ]
  },
  {
   "cell_type": "markdown",
   "id": "363f886e",
   "metadata": {},
   "source": [
    "# Negative words wordcloud"
   ]
  },
  {
   "cell_type": "code",
   "execution_count": 43,
   "id": "cae99012",
   "metadata": {},
   "outputs": [
    {
     "data": {
      "image/png": "[encoded data removed]",
      "text/plain": [
       "<Figure size 432x288 with 1 Axes>"
      ]
     },
     "metadata": {
      "needs_background": "light"
     },
     "output_type": "display_data"
    }
   ],
   "source": [
    "from wordcloud import WordCloud, STOPWORDS\n",
    "file_content=open (\"negative-words.txt\").read()\n",
    "\n",
    "wordcloud = WordCloud(background_color ='black',\n",
    "                     width=1800,\n",
    "                     height=1400).generate(file_content)\n",
    "plt.imshow(wordcloud)\n",
    "plt.axis('off')\n",
    "plt.show()\n"
   ]
  },
  {
   "cell_type": "markdown",
   "id": "dc147090",
   "metadata": {},
   "source": [
    "# TWO:\n",
    "1) Extract reviews of any product from ecommerce website like amazon\n",
    "\n",
    "2) Perform emotion mining"
   ]
  },
  {
   "cell_type": "code",
   "execution_count": 44,
   "id": "7072f78c",
   "metadata": {},
   "outputs": [],
   "source": [
    "import pandas as pd\n",
    "import requests\n",
    "from tqdm import tqdm_notebook\n",
    "from bs4 import BeautifulSoup"
   ]
  },
  {
   "cell_type": "code",
   "execution_count": 45,
   "id": "96fd3fa9",
   "metadata": {},
   "outputs": [],
   "source": [
    "#Looping through multiple pages\n",
    "def get_soup(url):\n",
    "    r = requests.get(url,\n",
    "    params={'url': url, 'wait': 2})\n",
    "    soup = BeautifulSoup(r.text, 'html.parser')\n",
    "    return soup"
   ]
  },
  {
   "cell_type": "code",
   "execution_count": 46,
   "id": "30cb5813",
   "metadata": {},
   "outputs": [],
   "source": [
    "# Initialize list to store reviews data later on\n",
    "reviewlist = []\n",
    "\n",
    "# Function 2: look for web-tags in our soup, then append our data to reviewList\n",
    "def get_reviews(soup):\n",
    "    reviews = soup.find_all('div', {'data-hook': 'review'})\n",
    "    try:\n",
    "        for item in reviews:\n",
    "            review = {\n",
    "            'product': soup.title.text.replace('Amazon.in:Customer reviews: ', '').strip(),    \n",
    "            'date': item.find('span', {'data-hook': 'review-date'}).text.replace('Reviewed in India on', '').strip(),\n",
    "            'title': item.find('a', {'data-hook': 'review-title'}).text.strip(),\n",
    "            'rating':  float(item.find('i', {'data-hook': 'review-star-rating'}).text.replace('out of 5 stars', '').strip()),\n",
    "            'body': item.find('span', {'data-hook': 'review-body'}).text.strip(),\n",
    "            }\n",
    "            reviewlist.append(review)\n",
    "    except:\n",
    "        pass"
   ]
  },
  {
   "cell_type": "code",
   "execution_count": 47,
   "id": "bcb98dcb",
   "metadata": {},
   "outputs": [
    {
     "name": "stderr",
     "output_type": "stream",
     "text": [
      "C:\\Users\\Anup sharma\\AppData\\Local\\Temp\\ipykernel_5364\\1309506063.py:2: TqdmDeprecationWarning: This function will be removed in tqdm==5.0.0\n",
      "Please use `tqdm.notebook.tqdm` instead of `tqdm.tqdm_notebook`\n",
      "  for x in tqdm_notebook(range(1,1000)):\n"
     ]
    },
    {
     "data": {
      "application/vnd.jupyter.widget-view+json": {
       "model_id": "2d912e4b2f964c4787259cf9b9554132",
       "version_major": 2,
       "version_minor": 0
      },
      "text/plain": [
       "  0%|          | 0/999 [00:00<?, ?it/s]"
      ]
     },
     "metadata": {},
     "output_type": "display_data"
    }
   ],
   "source": [
    "# loop through 1:x many pages, or until the css selector found only on the last page is found (when the next page button is greyed)\n",
    "for x in tqdm_notebook(range(1,1000)):\n",
    "    soup = get_soup(f'https://www.amazon.in/Samsung-Galaxy-Ultra-Green-Storage/dp/B0BT9CXXXX/ref=sr_1_1_sspa?crid=162SEXMCWJGMG&keywords=samsung+s23+ultra+5g&qid=1680609180&sprefix=samsung%2Caps%2C386&sr=8-1-spons&sp_csd=d2lkZ2V0TmFtZT1zcF9hdGY&psc=1={x}')\n",
    "    #print(f'Getting page: {x}')\n",
    "    get_reviews(soup)\n",
    "    #print(len(reviewlist))\n",
    "    if not soup.find('li', {'class': 'a-disabled a-last'}):\n",
    "        pass\n",
    "    else:\n",
    "        break"
   ]
  },
  {
   "cell_type": "code",
   "execution_count": 73,
   "id": "75e60b09",
   "metadata": {},
   "outputs": [
    {
     "data": {
      "text/html": [
       "<div>\n",
       "<style scoped>\n",
       "    .dataframe tbody tr th:only-of-type {\n",
       "        vertical-align: middle;\n",
       "    }\n",
       "\n",
       "    .dataframe tbody tr th {\n",
       "        vertical-align: top;\n",
       "    }\n",
       "\n",
       "    .dataframe thead th {\n",
       "        text-align: right;\n",
       "    }\n",
       "</style>\n",
       "<table border=\"1\" class=\"dataframe\">\n",
       "  <thead>\n",
       "    <tr style=\"text-align: right;\">\n",
       "      <th></th>\n",
       "      <th>product</th>\n",
       "      <th>date</th>\n",
       "      <th>title</th>\n",
       "      <th>rating</th>\n",
       "      <th>body</th>\n",
       "    </tr>\n",
       "  </thead>\n",
       "  <tbody>\n",
       "    <tr>\n",
       "      <th>0</th>\n",
       "      <td>Samsung Galaxy S23 Ultra 5G (Green, 12GB, 256G...</td>\n",
       "      <td>Reviewed in India 🇮🇳 on 8 March 2023</td>\n",
       "      <td>True flagship performance and excellent overal...</td>\n",
       "      <td>4.0</td>\n",
       "      <td>The media could not be loaded.\\n              ...</td>\n",
       "    </tr>\n",
       "    <tr>\n",
       "      <th>1</th>\n",
       "      <td>Samsung Galaxy S23 Ultra 5G (Green, 12GB, 256G...</td>\n",
       "      <td>Reviewed in India 🇮🇳 on 1 April 2023</td>\n",
       "      <td>Value for money</td>\n",
       "      <td>4.0</td>\n",
       "      <td>Best picture qualityFast charging missing\\nRea...</td>\n",
       "    </tr>\n",
       "    <tr>\n",
       "      <th>2</th>\n",
       "      <td>Samsung Galaxy S23 Ultra 5G (Green, 12GB, 256G...</td>\n",
       "      <td>Reviewed in India 🇮🇳 on 13 March 2023</td>\n",
       "      <td>I like it.. but not love it.</td>\n",
       "      <td>4.0</td>\n",
       "      <td>I bought it a week ago.. i upgraded  from my o...</td>\n",
       "    </tr>\n",
       "    <tr>\n",
       "      <th>3</th>\n",
       "      <td>Samsung Galaxy S23 Ultra 5G (Green, 12GB, 256G...</td>\n",
       "      <td>Reviewed in India 🇮🇳 on 28 February 2023</td>\n",
       "      <td>The perfect beast</td>\n",
       "      <td>5.0</td>\n",
       "      <td>This phone is a pefect upgrade from my old One...</td>\n",
       "    </tr>\n",
       "    <tr>\n",
       "      <th>4</th>\n",
       "      <td>Samsung Galaxy S23 Ultra 5G (Green, 12GB, 256G...</td>\n",
       "      <td>Reviewed in India 🇮🇳 on 19 March 2023</td>\n",
       "      <td>Best compact phone with all premium features</td>\n",
       "      <td>4.0</td>\n",
       "      <td>Phone does the job, with all the features work...</td>\n",
       "    </tr>\n",
       "    <tr>\n",
       "      <th>...</th>\n",
       "      <td>...</td>\n",
       "      <td>...</td>\n",
       "      <td>...</td>\n",
       "      <td>...</td>\n",
       "      <td>...</td>\n",
       "    </tr>\n",
       "    <tr>\n",
       "      <th>299</th>\n",
       "      <td>Samsung Galaxy S23 Ultra 5G (Green, 12GB, 256G...</td>\n",
       "      <td>Reviewed in India 🇮🇳 on 28 February 2023</td>\n",
       "      <td>The perfect beast</td>\n",
       "      <td>5.0</td>\n",
       "      <td>This phone is a pefect upgrade from my old One...</td>\n",
       "    </tr>\n",
       "    <tr>\n",
       "      <th>300</th>\n",
       "      <td>Samsung Galaxy S23 Ultra 5G (Green, 12GB, 256G...</td>\n",
       "      <td>Reviewed in India 🇮🇳 on 19 March 2023</td>\n",
       "      <td>Best compact phone with all premium features</td>\n",
       "      <td>4.0</td>\n",
       "      <td>Phone does the job, with all the features work...</td>\n",
       "    </tr>\n",
       "    <tr>\n",
       "      <th>301</th>\n",
       "      <td>Samsung Galaxy S23 Ultra 5G (Green, 12GB, 256G...</td>\n",
       "      <td>Reviewed in India 🇮🇳 on 24 March 2023</td>\n",
       "      <td>Product was good,  but amazon service was wors...</td>\n",
       "      <td>4.0</td>\n",
       "      <td>Product was good,  but amazon service was wors...</td>\n",
       "    </tr>\n",
       "    <tr>\n",
       "      <th>302</th>\n",
       "      <td>Samsung Galaxy S23 Ultra 5G (Green, 12GB, 256G...</td>\n",
       "      <td>Reviewed in India 🇮🇳 on 7 March 2023</td>\n",
       "      <td>Awesome 😎</td>\n",
       "      <td>4.0</td>\n",
       "      <td>Pros: excellent look and feel , I've always wa...</td>\n",
       "    </tr>\n",
       "    <tr>\n",
       "      <th>303</th>\n",
       "      <td>Samsung Galaxy S23 Ultra 5G (Green, 12GB, 256G...</td>\n",
       "      <td>Reviewed in India 🇮🇳 on 17 March 2023</td>\n",
       "      <td>Phone is great</td>\n",
       "      <td>4.0</td>\n",
       "      <td>Phone is great with performance but battery li...</td>\n",
       "    </tr>\n",
       "  </tbody>\n",
       "</table>\n",
       "<p>304 rows × 5 columns</p>\n",
       "</div>"
      ],
      "text/plain": [
       "                                               product  \\\n",
       "0    Samsung Galaxy S23 Ultra 5G (Green, 12GB, 256G...   \n",
       "1    Samsung Galaxy S23 Ultra 5G (Green, 12GB, 256G...   \n",
       "2    Samsung Galaxy S23 Ultra 5G (Green, 12GB, 256G...   \n",
       "3    Samsung Galaxy S23 Ultra 5G (Green, 12GB, 256G...   \n",
       "4    Samsung Galaxy S23 Ultra 5G (Green, 12GB, 256G...   \n",
       "..                                                 ...   \n",
       "299  Samsung Galaxy S23 Ultra 5G (Green, 12GB, 256G...   \n",
       "300  Samsung Galaxy S23 Ultra 5G (Green, 12GB, 256G...   \n",
       "301  Samsung Galaxy S23 Ultra 5G (Green, 12GB, 256G...   \n",
       "302  Samsung Galaxy S23 Ultra 5G (Green, 12GB, 256G...   \n",
       "303  Samsung Galaxy S23 Ultra 5G (Green, 12GB, 256G...   \n",
       "\n",
       "                                         date  \\\n",
       "0        Reviewed in India 🇮🇳 on 8 March 2023   \n",
       "1        Reviewed in India 🇮🇳 on 1 April 2023   \n",
       "2       Reviewed in India 🇮🇳 on 13 March 2023   \n",
       "3    Reviewed in India 🇮🇳 on 28 February 2023   \n",
       "4       Reviewed in India 🇮🇳 on 19 March 2023   \n",
       "..                                        ...   \n",
       "299  Reviewed in India 🇮🇳 on 28 February 2023   \n",
       "300     Reviewed in India 🇮🇳 on 19 March 2023   \n",
       "301     Reviewed in India 🇮🇳 on 24 March 2023   \n",
       "302      Reviewed in India 🇮🇳 on 7 March 2023   \n",
       "303     Reviewed in India 🇮🇳 on 17 March 2023   \n",
       "\n",
       "                                                 title  rating  \\\n",
       "0    True flagship performance and excellent overal...     4.0   \n",
       "1                                      Value for money     4.0   \n",
       "2                         I like it.. but not love it.     4.0   \n",
       "3                                    The perfect beast     5.0   \n",
       "4         Best compact phone with all premium features     4.0   \n",
       "..                                                 ...     ...   \n",
       "299                                  The perfect beast     5.0   \n",
       "300       Best compact phone with all premium features     4.0   \n",
       "301  Product was good,  but amazon service was wors...     4.0   \n",
       "302                                          Awesome 😎     4.0   \n",
       "303                                     Phone is great     4.0   \n",
       "\n",
       "                                                  body  \n",
       "0    The media could not be loaded.\\n              ...  \n",
       "1    Best picture qualityFast charging missing\\nRea...  \n",
       "2    I bought it a week ago.. i upgraded  from my o...  \n",
       "3    This phone is a pefect upgrade from my old One...  \n",
       "4    Phone does the job, with all the features work...  \n",
       "..                                                 ...  \n",
       "299  This phone is a pefect upgrade from my old One...  \n",
       "300  Phone does the job, with all the features work...  \n",
       "301  Product was good,  but amazon service was wors...  \n",
       "302  Pros: excellent look and feel , I've always wa...  \n",
       "303  Phone is great with performance but battery li...  \n",
       "\n",
       "[304 rows x 5 columns]"
      ]
     },
     "execution_count": 73,
     "metadata": {},
     "output_type": "execute_result"
    }
   ],
   "source": [
    "# Save results to a dataframe, then export as CSV\n",
    "df = pd.DataFrame(reviewlist)\n",
    "df"
   ]
  },
  {
   "cell_type": "code",
   "execution_count": 74,
   "id": "74be7dc4",
   "metadata": {},
   "outputs": [],
   "source": [
    "df.to_csv(\"Amazon_Reviews.csv\")"
   ]
  },
  {
   "cell_type": "code",
   "execution_count": 1,
   "id": "3f9d975c",
   "metadata": {},
   "outputs": [],
   "source": [
    "#load the libraries\n",
    "import pandas as pd\n",
    "import numpy as np\n",
    "import seaborn as sns\n",
    "from matplotlib import pyplot as plt\n",
    "import re \n",
    "import nltk\n",
    "from nltk.corpus import stopwords\n",
    "from wordcloud import WordCloud,STOPWORDS\n",
    "import warnings\n",
    "warnings.filterwarnings('ignore')"
   ]
  },
  {
   "cell_type": "code",
   "execution_count": 2,
   "id": "b8277dd6",
   "metadata": {},
   "outputs": [
    {
     "data": {
      "text/html": [
       "<div>\n",
       "<style scoped>\n",
       "    .dataframe tbody tr th:only-of-type {\n",
       "        vertical-align: middle;\n",
       "    }\n",
       "\n",
       "    .dataframe tbody tr th {\n",
       "        vertical-align: top;\n",
       "    }\n",
       "\n",
       "    .dataframe thead th {\n",
       "        text-align: right;\n",
       "    }\n",
       "</style>\n",
       "<table border=\"1\" class=\"dataframe\">\n",
       "  <thead>\n",
       "    <tr style=\"text-align: right;\">\n",
       "      <th></th>\n",
       "      <th>product</th>\n",
       "      <th>date</th>\n",
       "      <th>title</th>\n",
       "      <th>rating</th>\n",
       "      <th>body</th>\n",
       "    </tr>\n",
       "  </thead>\n",
       "  <tbody>\n",
       "    <tr>\n",
       "      <th>0</th>\n",
       "      <td>Samsung Galaxy S23 Ultra 5G (Green, 12GB, 256G...</td>\n",
       "      <td>Reviewed in India 🇮🇳 on 8 March 2023</td>\n",
       "      <td>True flagship performance and excellent overal...</td>\n",
       "      <td>4.0</td>\n",
       "      <td>The media could not be loaded.\\n              ...</td>\n",
       "    </tr>\n",
       "    <tr>\n",
       "      <th>1</th>\n",
       "      <td>Samsung Galaxy S23 Ultra 5G (Green, 12GB, 256G...</td>\n",
       "      <td>Reviewed in India 🇮🇳 on 1 April 2023</td>\n",
       "      <td>Value for money</td>\n",
       "      <td>4.0</td>\n",
       "      <td>Best picture qualityFast charging missing\\nRea...</td>\n",
       "    </tr>\n",
       "    <tr>\n",
       "      <th>2</th>\n",
       "      <td>Samsung Galaxy S23 Ultra 5G (Green, 12GB, 256G...</td>\n",
       "      <td>Reviewed in India 🇮🇳 on 13 March 2023</td>\n",
       "      <td>I like it.. but not love it.</td>\n",
       "      <td>4.0</td>\n",
       "      <td>I bought it a week ago.. i upgraded  from my o...</td>\n",
       "    </tr>\n",
       "    <tr>\n",
       "      <th>3</th>\n",
       "      <td>Samsung Galaxy S23 Ultra 5G (Green, 12GB, 256G...</td>\n",
       "      <td>Reviewed in India 🇮🇳 on 28 February 2023</td>\n",
       "      <td>The perfect beast</td>\n",
       "      <td>5.0</td>\n",
       "      <td>This phone is a pefect upgrade from my old One...</td>\n",
       "    </tr>\n",
       "    <tr>\n",
       "      <th>4</th>\n",
       "      <td>Samsung Galaxy S23 Ultra 5G (Green, 12GB, 256G...</td>\n",
       "      <td>Reviewed in India 🇮🇳 on 19 March 2023</td>\n",
       "      <td>Best compact phone with all premium features</td>\n",
       "      <td>4.0</td>\n",
       "      <td>Phone does the job, with all the features work...</td>\n",
       "    </tr>\n",
       "    <tr>\n",
       "      <th>...</th>\n",
       "      <td>...</td>\n",
       "      <td>...</td>\n",
       "      <td>...</td>\n",
       "      <td>...</td>\n",
       "      <td>...</td>\n",
       "    </tr>\n",
       "    <tr>\n",
       "      <th>299</th>\n",
       "      <td>Samsung Galaxy S23 Ultra 5G (Green, 12GB, 256G...</td>\n",
       "      <td>Reviewed in India 🇮🇳 on 28 February 2023</td>\n",
       "      <td>The perfect beast</td>\n",
       "      <td>5.0</td>\n",
       "      <td>This phone is a pefect upgrade from my old One...</td>\n",
       "    </tr>\n",
       "    <tr>\n",
       "      <th>300</th>\n",
       "      <td>Samsung Galaxy S23 Ultra 5G (Green, 12GB, 256G...</td>\n",
       "      <td>Reviewed in India 🇮🇳 on 19 March 2023</td>\n",
       "      <td>Best compact phone with all premium features</td>\n",
       "      <td>4.0</td>\n",
       "      <td>Phone does the job, with all the features work...</td>\n",
       "    </tr>\n",
       "    <tr>\n",
       "      <th>301</th>\n",
       "      <td>Samsung Galaxy S23 Ultra 5G (Green, 12GB, 256G...</td>\n",
       "      <td>Reviewed in India 🇮🇳 on 24 March 2023</td>\n",
       "      <td>Product was good,  but amazon service was wors...</td>\n",
       "      <td>4.0</td>\n",
       "      <td>Product was good,  but amazon service was wors...</td>\n",
       "    </tr>\n",
       "    <tr>\n",
       "      <th>302</th>\n",
       "      <td>Samsung Galaxy S23 Ultra 5G (Green, 12GB, 256G...</td>\n",
       "      <td>Reviewed in India 🇮🇳 on 7 March 2023</td>\n",
       "      <td>Awesome 😎</td>\n",
       "      <td>4.0</td>\n",
       "      <td>Pros: excellent look and feel , I've always wa...</td>\n",
       "    </tr>\n",
       "    <tr>\n",
       "      <th>303</th>\n",
       "      <td>Samsung Galaxy S23 Ultra 5G (Green, 12GB, 256G...</td>\n",
       "      <td>Reviewed in India 🇮🇳 on 17 March 2023</td>\n",
       "      <td>Phone is great</td>\n",
       "      <td>4.0</td>\n",
       "      <td>Phone is great with performance but battery li...</td>\n",
       "    </tr>\n",
       "  </tbody>\n",
       "</table>\n",
       "<p>304 rows × 5 columns</p>\n",
       "</div>"
      ],
      "text/plain": [
       "                                               product  \\\n",
       "0    Samsung Galaxy S23 Ultra 5G (Green, 12GB, 256G...   \n",
       "1    Samsung Galaxy S23 Ultra 5G (Green, 12GB, 256G...   \n",
       "2    Samsung Galaxy S23 Ultra 5G (Green, 12GB, 256G...   \n",
       "3    Samsung Galaxy S23 Ultra 5G (Green, 12GB, 256G...   \n",
       "4    Samsung Galaxy S23 Ultra 5G (Green, 12GB, 256G...   \n",
       "..                                                 ...   \n",
       "299  Samsung Galaxy S23 Ultra 5G (Green, 12GB, 256G...   \n",
       "300  Samsung Galaxy S23 Ultra 5G (Green, 12GB, 256G...   \n",
       "301  Samsung Galaxy S23 Ultra 5G (Green, 12GB, 256G...   \n",
       "302  Samsung Galaxy S23 Ultra 5G (Green, 12GB, 256G...   \n",
       "303  Samsung Galaxy S23 Ultra 5G (Green, 12GB, 256G...   \n",
       "\n",
       "                                         date  \\\n",
       "0        Reviewed in India 🇮🇳 on 8 March 2023   \n",
       "1        Reviewed in India 🇮🇳 on 1 April 2023   \n",
       "2       Reviewed in India 🇮🇳 on 13 March 2023   \n",
       "3    Reviewed in India 🇮🇳 on 28 February 2023   \n",
       "4       Reviewed in India 🇮🇳 on 19 March 2023   \n",
       "..                                        ...   \n",
       "299  Reviewed in India 🇮🇳 on 28 February 2023   \n",
       "300     Reviewed in India 🇮🇳 on 19 March 2023   \n",
       "301     Reviewed in India 🇮🇳 on 24 March 2023   \n",
       "302      Reviewed in India 🇮🇳 on 7 March 2023   \n",
       "303     Reviewed in India 🇮🇳 on 17 March 2023   \n",
       "\n",
       "                                                 title  rating  \\\n",
       "0    True flagship performance and excellent overal...     4.0   \n",
       "1                                      Value for money     4.0   \n",
       "2                         I like it.. but not love it.     4.0   \n",
       "3                                    The perfect beast     5.0   \n",
       "4         Best compact phone with all premium features     4.0   \n",
       "..                                                 ...     ...   \n",
       "299                                  The perfect beast     5.0   \n",
       "300       Best compact phone with all premium features     4.0   \n",
       "301  Product was good,  but amazon service was wors...     4.0   \n",
       "302                                          Awesome 😎     4.0   \n",
       "303                                     Phone is great     4.0   \n",
       "\n",
       "                                                  body  \n",
       "0    The media could not be loaded.\\n              ...  \n",
       "1    Best picture qualityFast charging missing\\nRea...  \n",
       "2    I bought it a week ago.. i upgraded  from my o...  \n",
       "3    This phone is a pefect upgrade from my old One...  \n",
       "4    Phone does the job, with all the features work...  \n",
       "..                                                 ...  \n",
       "299  This phone is a pefect upgrade from my old One...  \n",
       "300  Phone does the job, with all the features work...  \n",
       "301  Product was good,  but amazon service was wors...  \n",
       "302  Pros: excellent look and feel , I've always wa...  \n",
       "303  Phone is great with performance but battery li...  \n",
       "\n",
       "[304 rows x 5 columns]"
      ]
     },
     "execution_count": 2,
     "metadata": {},
     "output_type": "execute_result"
    }
   ],
   "source": [
    "# load the dataset\n",
    "reviews=pd.read_csv(\"Amazon_Reviews.csv\")\n",
    "reviews.drop(['Unnamed: 0'],inplace=True,axis=1)\n",
    "reviews"
   ]
  },
  {
   "cell_type": "code",
   "execution_count": 3,
   "id": "8c174fa4",
   "metadata": {},
   "outputs": [
    {
     "name": "stdout",
     "output_type": "stream",
     "text": [
      "<class 'pandas.core.frame.DataFrame'>\n",
      "RangeIndex: 304 entries, 0 to 303\n",
      "Data columns (total 5 columns):\n",
      " #   Column   Non-Null Count  Dtype  \n",
      "---  ------   --------------  -----  \n",
      " 0   product  304 non-null    object \n",
      " 1   date     304 non-null    object \n",
      " 2   title    304 non-null    object \n",
      " 3   rating   304 non-null    float64\n",
      " 4   body     304 non-null    object \n",
      "dtypes: float64(1), object(4)\n",
      "memory usage: 12.0+ KB\n"
     ]
    }
   ],
   "source": [
    "reviews.info()"
   ]
  },
  {
   "cell_type": "code",
   "execution_count": 4,
   "id": "a482abbc",
   "metadata": {},
   "outputs": [],
   "source": [
    "#Cleaning up the Dates and making a seperate columns for country\n",
    "reviews.date = reviews.date.apply(lambda x : x.replace('Reviewed in ',''))\n",
    "reviews.date = reviews.date.apply(lambda x : re.sub(r\"on \", \"\", x))\n",
    "\n",
    "# for Country\n",
    "reviews[\"country\"] = reviews.date.apply(lambda x : x.split(' ',1)[0])\n",
    "\n",
    "#splitting date\n",
    "reviews.date = reviews.date.apply(lambda x : x.split(' ',1)[1])"
   ]
  },
  {
   "cell_type": "code",
   "execution_count": 6,
   "id": "c79df4a7",
   "metadata": {},
   "outputs": [
    {
     "data": {
      "text/html": [
       "<div>\n",
       "<style scoped>\n",
       "    .dataframe tbody tr th:only-of-type {\n",
       "        vertical-align: middle;\n",
       "    }\n",
       "\n",
       "    .dataframe tbody tr th {\n",
       "        vertical-align: top;\n",
       "    }\n",
       "\n",
       "    .dataframe thead th {\n",
       "        text-align: right;\n",
       "    }\n",
       "</style>\n",
       "<table border=\"1\" class=\"dataframe\">\n",
       "  <thead>\n",
       "    <tr style=\"text-align: right;\">\n",
       "      <th></th>\n",
       "      <th>date</th>\n",
       "      <th>title</th>\n",
       "      <th>rating</th>\n",
       "      <th>country</th>\n",
       "    </tr>\n",
       "  </thead>\n",
       "  <tbody>\n",
       "    <tr>\n",
       "      <th>0</th>\n",
       "      <td>🇮🇳 8 March 2023</td>\n",
       "      <td>True flagship performance and excellent overal...</td>\n",
       "      <td>4.0</td>\n",
       "      <td>India</td>\n",
       "    </tr>\n",
       "    <tr>\n",
       "      <th>1</th>\n",
       "      <td>🇮🇳 1 April 2023</td>\n",
       "      <td>Value for money</td>\n",
       "      <td>4.0</td>\n",
       "      <td>India</td>\n",
       "    </tr>\n",
       "    <tr>\n",
       "      <th>2</th>\n",
       "      <td>🇮🇳 13 March 2023</td>\n",
       "      <td>I like it.. but not love it.</td>\n",
       "      <td>4.0</td>\n",
       "      <td>India</td>\n",
       "    </tr>\n",
       "    <tr>\n",
       "      <th>3</th>\n",
       "      <td>🇮🇳 28 February 2023</td>\n",
       "      <td>The perfect beast</td>\n",
       "      <td>5.0</td>\n",
       "      <td>India</td>\n",
       "    </tr>\n",
       "    <tr>\n",
       "      <th>4</th>\n",
       "      <td>🇮🇳 19 March 2023</td>\n",
       "      <td>Best compact phone with all premium features</td>\n",
       "      <td>4.0</td>\n",
       "      <td>India</td>\n",
       "    </tr>\n",
       "    <tr>\n",
       "      <th>...</th>\n",
       "      <td>...</td>\n",
       "      <td>...</td>\n",
       "      <td>...</td>\n",
       "      <td>...</td>\n",
       "    </tr>\n",
       "    <tr>\n",
       "      <th>299</th>\n",
       "      <td>🇮🇳 28 February 2023</td>\n",
       "      <td>The perfect beast</td>\n",
       "      <td>5.0</td>\n",
       "      <td>India</td>\n",
       "    </tr>\n",
       "    <tr>\n",
       "      <th>300</th>\n",
       "      <td>🇮🇳 19 March 2023</td>\n",
       "      <td>Best compact phone with all premium features</td>\n",
       "      <td>4.0</td>\n",
       "      <td>India</td>\n",
       "    </tr>\n",
       "    <tr>\n",
       "      <th>301</th>\n",
       "      <td>🇮🇳 24 March 2023</td>\n",
       "      <td>Product was good,  but amazon service was wors...</td>\n",
       "      <td>4.0</td>\n",
       "      <td>India</td>\n",
       "    </tr>\n",
       "    <tr>\n",
       "      <th>302</th>\n",
       "      <td>🇮🇳 7 March 2023</td>\n",
       "      <td>Awesome 😎</td>\n",
       "      <td>4.0</td>\n",
       "      <td>India</td>\n",
       "    </tr>\n",
       "    <tr>\n",
       "      <th>303</th>\n",
       "      <td>🇮🇳 17 March 2023</td>\n",
       "      <td>Phone is great</td>\n",
       "      <td>4.0</td>\n",
       "      <td>India</td>\n",
       "    </tr>\n",
       "  </tbody>\n",
       "</table>\n",
       "<p>304 rows × 4 columns</p>\n",
       "</div>"
      ],
      "text/plain": [
       "                    date                                              title  \\\n",
       "0        🇮🇳 8 March 2023  True flagship performance and excellent overal...   \n",
       "1        🇮🇳 1 April 2023                                    Value for money   \n",
       "2       🇮🇳 13 March 2023                       I like it.. but not love it.   \n",
       "3    🇮🇳 28 February 2023                                  The perfect beast   \n",
       "4       🇮🇳 19 March 2023       Best compact phone with all premium features   \n",
       "..                   ...                                                ...   \n",
       "299  🇮🇳 28 February 2023                                  The perfect beast   \n",
       "300     🇮🇳 19 March 2023       Best compact phone with all premium features   \n",
       "301     🇮🇳 24 March 2023  Product was good,  but amazon service was wors...   \n",
       "302      🇮🇳 7 March 2023                                          Awesome 😎   \n",
       "303     🇮🇳 17 March 2023                                     Phone is great   \n",
       "\n",
       "     rating country  \n",
       "0       4.0   India  \n",
       "1       4.0   India  \n",
       "2       4.0   India  \n",
       "3       5.0   India  \n",
       "4       4.0   India  \n",
       "..      ...     ...  \n",
       "299     5.0   India  \n",
       "300     4.0   India  \n",
       "301     4.0   India  \n",
       "302     4.0   India  \n",
       "303     4.0   India  \n",
       "\n",
       "[304 rows x 4 columns]"
      ]
     },
     "execution_count": 6,
     "metadata": {},
     "output_type": "execute_result"
    }
   ],
   "source": [
    "reviews1 = reviews.copy() #we do not need content and name so we can remove it\n",
    "reviews1=reviews1.drop(['product','body'],axis=1)\n",
    "reviews1 #We can perform "
   ]
  },
  {
   "cell_type": "markdown",
   "id": "74a86d99",
   "metadata": {},
   "source": [
    "# Remove StopWords"
   ]
  },
  {
   "cell_type": "code",
   "execution_count": 7,
   "id": "c83af264",
   "metadata": {},
   "outputs": [
    {
     "data": {
      "text/html": [
       "<div>\n",
       "<style scoped>\n",
       "    .dataframe tbody tr th:only-of-type {\n",
       "        vertical-align: middle;\n",
       "    }\n",
       "\n",
       "    .dataframe tbody tr th {\n",
       "        vertical-align: top;\n",
       "    }\n",
       "\n",
       "    .dataframe thead th {\n",
       "        text-align: right;\n",
       "    }\n",
       "</style>\n",
       "<table border=\"1\" class=\"dataframe\">\n",
       "  <thead>\n",
       "    <tr style=\"text-align: right;\">\n",
       "      <th></th>\n",
       "      <th>date</th>\n",
       "      <th>title</th>\n",
       "      <th>rating</th>\n",
       "      <th>country</th>\n",
       "    </tr>\n",
       "  </thead>\n",
       "  <tbody>\n",
       "    <tr>\n",
       "      <th>0</th>\n",
       "      <td>🇮🇳 8 March 2023</td>\n",
       "      <td>True flagship performance excellent overall (h...</td>\n",
       "      <td>4.0</td>\n",
       "      <td>India</td>\n",
       "    </tr>\n",
       "    <tr>\n",
       "      <th>1</th>\n",
       "      <td>🇮🇳 1 April 2023</td>\n",
       "      <td>Value money</td>\n",
       "      <td>4.0</td>\n",
       "      <td>India</td>\n",
       "    </tr>\n",
       "    <tr>\n",
       "      <th>2</th>\n",
       "      <td>🇮🇳 13 March 2023</td>\n",
       "      <td>I it.. love it.</td>\n",
       "      <td>4.0</td>\n",
       "      <td>India</td>\n",
       "    </tr>\n",
       "    <tr>\n",
       "      <th>3</th>\n",
       "      <td>🇮🇳 28 February 2023</td>\n",
       "      <td>The perfect beast</td>\n",
       "      <td>5.0</td>\n",
       "      <td>India</td>\n",
       "    </tr>\n",
       "    <tr>\n",
       "      <th>4</th>\n",
       "      <td>🇮🇳 19 March 2023</td>\n",
       "      <td>Best compact phone premium features</td>\n",
       "      <td>4.0</td>\n",
       "      <td>India</td>\n",
       "    </tr>\n",
       "  </tbody>\n",
       "</table>\n",
       "</div>"
      ],
      "text/plain": [
       "                  date                                              title  \\\n",
       "0      🇮🇳 8 March 2023  True flagship performance excellent overall (h...   \n",
       "1      🇮🇳 1 April 2023                                        Value money   \n",
       "2     🇮🇳 13 March 2023                                    I it.. love it.   \n",
       "3  🇮🇳 28 February 2023                                  The perfect beast   \n",
       "4     🇮🇳 19 March 2023                Best compact phone premium features   \n",
       "\n",
       "   rating country  \n",
       "0     4.0   India  \n",
       "1     4.0   India  \n",
       "2     4.0   India  \n",
       "3     5.0   India  \n",
       "4     4.0   India  "
      ]
     },
     "execution_count": 7,
     "metadata": {},
     "output_type": "execute_result"
    }
   ],
   "source": [
    "reviews1.title = reviews1.title.apply(lambda x: ' '.join([word for word in x.split() if word not in (STOPWORDS)]))\n",
    "reviews1.head() #No need to perform stemming or lematization as titles are almost small and short"
   ]
  },
  {
   "cell_type": "markdown",
   "id": "0a2f74ea",
   "metadata": {},
   "source": [
    "# Product Sentiment Values"
   ]
  },
  {
   "cell_type": "code",
   "execution_count": 8,
   "id": "526c934a",
   "metadata": {},
   "outputs": [
    {
     "name": "stderr",
     "output_type": "stream",
     "text": [
      "[nltk_data] Downloading package vader_lexicon to C:\\Users\\Anup\n",
      "[nltk_data]     sharma\\AppData\\Roaming\\nltk_data...\n",
      "[nltk_data]   Package vader_lexicon is already up-to-date!\n"
     ]
    },
    {
     "data": {
      "text/plain": [
       "True"
      ]
     },
     "execution_count": 8,
     "metadata": {},
     "output_type": "execute_result"
    }
   ],
   "source": [
    "import nltk\n",
    "nltk.download('vader_lexicon')"
   ]
  },
  {
   "cell_type": "code",
   "execution_count": 9,
   "id": "1087692c",
   "metadata": {},
   "outputs": [],
   "source": [
    "from nltk.sentiment.vader import SentimentIntensityAnalyzer\n",
    "sentialz = SentimentIntensityAnalyzer()"
   ]
  },
  {
   "cell_type": "code",
   "execution_count": 10,
   "id": "bf589408",
   "metadata": {},
   "outputs": [
    {
     "data": {
      "text/plain": [
       "{'neg': 0.442, 'neu': 0.388, 'pos': 0.17, 'compound': -0.5862}"
      ]
     },
     "execution_count": 10,
     "metadata": {},
     "output_type": "execute_result"
    }
   ],
   "source": [
    "sentialz.polarity_scores(reviews.title.iloc[2])"
   ]
  },
  {
   "cell_type": "code",
   "execution_count": 11,
   "id": "ca60800e",
   "metadata": {},
   "outputs": [],
   "source": [
    "#Function to retrieve sentiment class\n",
    "def get_senti_class(review): \n",
    "    analysis = sentialz.polarity_scores(review)\n",
    "    # set sentiment \n",
    "    if analysis[\"compound\"] > 0: \n",
    "        return 'positive'\n",
    "    elif analysis[\"compound\"] < 0: \n",
    "        return 'negative'\n",
    "    \n",
    "def get_sentiment(review):\n",
    "    return pd.Series([sentialz.polarity_scores(review),get_senti_class(review)])"
   ]
  },
  {
   "cell_type": "code",
   "execution_count": 12,
   "id": "722153df",
   "metadata": {},
   "outputs": [
    {
     "data": {
      "text/html": [
       "<div>\n",
       "<style scoped>\n",
       "    .dataframe tbody tr th:only-of-type {\n",
       "        vertical-align: middle;\n",
       "    }\n",
       "\n",
       "    .dataframe tbody tr th {\n",
       "        vertical-align: top;\n",
       "    }\n",
       "\n",
       "    .dataframe thead th {\n",
       "        text-align: right;\n",
       "    }\n",
       "</style>\n",
       "<table border=\"1\" class=\"dataframe\">\n",
       "  <thead>\n",
       "    <tr style=\"text-align: right;\">\n",
       "      <th></th>\n",
       "      <th>date</th>\n",
       "      <th>title</th>\n",
       "      <th>rating</th>\n",
       "      <th>country</th>\n",
       "      <th>Scores</th>\n",
       "      <th>Sentiment</th>\n",
       "    </tr>\n",
       "  </thead>\n",
       "  <tbody>\n",
       "    <tr>\n",
       "      <th>0</th>\n",
       "      <td>🇮🇳 8 March 2023</td>\n",
       "      <td>True flagship performance excellent overall (h...</td>\n",
       "      <td>4.0</td>\n",
       "      <td>India</td>\n",
       "      <td>{'neg': 0.0, 'neu': 0.388, 'pos': 0.612, 'comp...</td>\n",
       "      <td>positive</td>\n",
       "    </tr>\n",
       "    <tr>\n",
       "      <th>1</th>\n",
       "      <td>🇮🇳 1 April 2023</td>\n",
       "      <td>Value money</td>\n",
       "      <td>4.0</td>\n",
       "      <td>India</td>\n",
       "      <td>{'neg': 0.0, 'neu': 0.294, 'pos': 0.706, 'comp...</td>\n",
       "      <td>positive</td>\n",
       "    </tr>\n",
       "    <tr>\n",
       "      <th>2</th>\n",
       "      <td>🇮🇳 13 March 2023</td>\n",
       "      <td>I it.. love it.</td>\n",
       "      <td>4.0</td>\n",
       "      <td>India</td>\n",
       "      <td>{'neg': 0.0, 'neu': 0.323, 'pos': 0.677, 'comp...</td>\n",
       "      <td>positive</td>\n",
       "    </tr>\n",
       "    <tr>\n",
       "      <th>3</th>\n",
       "      <td>🇮🇳 28 February 2023</td>\n",
       "      <td>The perfect beast</td>\n",
       "      <td>5.0</td>\n",
       "      <td>India</td>\n",
       "      <td>{'neg': 0.0, 'neu': 0.351, 'pos': 0.649, 'comp...</td>\n",
       "      <td>positive</td>\n",
       "    </tr>\n",
       "    <tr>\n",
       "      <th>4</th>\n",
       "      <td>🇮🇳 19 March 2023</td>\n",
       "      <td>Best compact phone premium features</td>\n",
       "      <td>4.0</td>\n",
       "      <td>India</td>\n",
       "      <td>{'neg': 0.0, 'neu': 0.488, 'pos': 0.512, 'comp...</td>\n",
       "      <td>positive</td>\n",
       "    </tr>\n",
       "    <tr>\n",
       "      <th>...</th>\n",
       "      <td>...</td>\n",
       "      <td>...</td>\n",
       "      <td>...</td>\n",
       "      <td>...</td>\n",
       "      <td>...</td>\n",
       "      <td>...</td>\n",
       "    </tr>\n",
       "    <tr>\n",
       "      <th>299</th>\n",
       "      <td>🇮🇳 28 February 2023</td>\n",
       "      <td>The perfect beast</td>\n",
       "      <td>5.0</td>\n",
       "      <td>India</td>\n",
       "      <td>{'neg': 0.0, 'neu': 0.351, 'pos': 0.649, 'comp...</td>\n",
       "      <td>positive</td>\n",
       "    </tr>\n",
       "    <tr>\n",
       "      <th>300</th>\n",
       "      <td>🇮🇳 19 March 2023</td>\n",
       "      <td>Best compact phone premium features</td>\n",
       "      <td>4.0</td>\n",
       "      <td>India</td>\n",
       "      <td>{'neg': 0.0, 'neu': 0.488, 'pos': 0.512, 'comp...</td>\n",
       "      <td>positive</td>\n",
       "    </tr>\n",
       "    <tr>\n",
       "      <th>301</th>\n",
       "      <td>🇮🇳 24 March 2023</td>\n",
       "      <td>Product good, amazon service worst worst ever.</td>\n",
       "      <td>4.0</td>\n",
       "      <td>India</td>\n",
       "      <td>{'neg': 0.519, 'neu': 0.19, 'pos': 0.291, 'com...</td>\n",
       "      <td>negative</td>\n",
       "    </tr>\n",
       "    <tr>\n",
       "      <th>302</th>\n",
       "      <td>🇮🇳 7 March 2023</td>\n",
       "      <td>Awesome 😎</td>\n",
       "      <td>4.0</td>\n",
       "      <td>India</td>\n",
       "      <td>{'neg': 0.0, 'neu': 0.0, 'pos': 1.0, 'compound...</td>\n",
       "      <td>positive</td>\n",
       "    </tr>\n",
       "    <tr>\n",
       "      <th>303</th>\n",
       "      <td>🇮🇳 17 March 2023</td>\n",
       "      <td>Phone great</td>\n",
       "      <td>4.0</td>\n",
       "      <td>India</td>\n",
       "      <td>{'neg': 0.0, 'neu': 0.196, 'pos': 0.804, 'comp...</td>\n",
       "      <td>positive</td>\n",
       "    </tr>\n",
       "  </tbody>\n",
       "</table>\n",
       "<p>304 rows × 6 columns</p>\n",
       "</div>"
      ],
      "text/plain": [
       "                    date                                              title  \\\n",
       "0        🇮🇳 8 March 2023  True flagship performance excellent overall (h...   \n",
       "1        🇮🇳 1 April 2023                                        Value money   \n",
       "2       🇮🇳 13 March 2023                                    I it.. love it.   \n",
       "3    🇮🇳 28 February 2023                                  The perfect beast   \n",
       "4       🇮🇳 19 March 2023                Best compact phone premium features   \n",
       "..                   ...                                                ...   \n",
       "299  🇮🇳 28 February 2023                                  The perfect beast   \n",
       "300     🇮🇳 19 March 2023                Best compact phone premium features   \n",
       "301     🇮🇳 24 March 2023     Product good, amazon service worst worst ever.   \n",
       "302      🇮🇳 7 March 2023                                          Awesome 😎   \n",
       "303     🇮🇳 17 March 2023                                        Phone great   \n",
       "\n",
       "     rating country                                             Scores  \\\n",
       "0       4.0   India  {'neg': 0.0, 'neu': 0.388, 'pos': 0.612, 'comp...   \n",
       "1       4.0   India  {'neg': 0.0, 'neu': 0.294, 'pos': 0.706, 'comp...   \n",
       "2       4.0   India  {'neg': 0.0, 'neu': 0.323, 'pos': 0.677, 'comp...   \n",
       "3       5.0   India  {'neg': 0.0, 'neu': 0.351, 'pos': 0.649, 'comp...   \n",
       "4       4.0   India  {'neg': 0.0, 'neu': 0.488, 'pos': 0.512, 'comp...   \n",
       "..      ...     ...                                                ...   \n",
       "299     5.0   India  {'neg': 0.0, 'neu': 0.351, 'pos': 0.649, 'comp...   \n",
       "300     4.0   India  {'neg': 0.0, 'neu': 0.488, 'pos': 0.512, 'comp...   \n",
       "301     4.0   India  {'neg': 0.519, 'neu': 0.19, 'pos': 0.291, 'com...   \n",
       "302     4.0   India  {'neg': 0.0, 'neu': 0.0, 'pos': 1.0, 'compound...   \n",
       "303     4.0   India  {'neg': 0.0, 'neu': 0.196, 'pos': 0.804, 'comp...   \n",
       "\n",
       "    Sentiment  \n",
       "0    positive  \n",
       "1    positive  \n",
       "2    positive  \n",
       "3    positive  \n",
       "4    positive  \n",
       "..        ...  \n",
       "299  positive  \n",
       "300  positive  \n",
       "301  negative  \n",
       "302  positive  \n",
       "303  positive  \n",
       "\n",
       "[304 rows x 6 columns]"
      ]
     },
     "execution_count": 12,
     "metadata": {},
     "output_type": "execute_result"
    }
   ],
   "source": [
    "#Applying function to all tweets\n",
    "reviews1[[\"Scores\", \"Sentiment\"]] = reviews1.title.apply(get_sentiment)\n",
    "reviews1"
   ]
  },
  {
   "cell_type": "markdown",
   "id": "1c0c9c7f",
   "metadata": {},
   "source": [
    "# Emotion Mining"
   ]
  },
  {
   "cell_type": "code",
   "execution_count": 13,
   "id": "9aff0f45",
   "metadata": {},
   "outputs": [
    {
     "data": {
      "text/plain": [
       "positive    266\n",
       "negative     38\n",
       "Name: Sentiment, dtype: int64"
      ]
     },
     "execution_count": 13,
     "metadata": {},
     "output_type": "execute_result"
    }
   ],
   "source": [
    "reviews1.Sentiment.value_counts()"
   ]
  },
  {
   "cell_type": "code",
   "execution_count": 14,
   "id": "f9d810e1",
   "metadata": {},
   "outputs": [
    {
     "data": {
      "text/plain": [
       "<AxesSubplot:xlabel='Sentiment', ylabel='count'>"
      ]
     },
     "execution_count": 14,
     "metadata": {},
     "output_type": "execute_result"
    },
    {
     "data": {
      "image/png": "[encoded data removed]",
      "text/plain": [
       "<Figure size 432x288 with 1 Axes>"
      ]
     },
     "metadata": {
      "needs_background": "light"
     },
     "output_type": "display_data"
    }
   ],
   "source": [
    "sns.countplot(reviews1.Sentiment,palette='cool_r') "
   ]
  },
  {
   "cell_type": "code",
   "execution_count": 15,
   "id": "a70cd76a",
   "metadata": {},
   "outputs": [
    {
     "data": {
      "text/plain": [
       "4.0    38\n",
       "Name: rating, dtype: int64"
      ]
     },
     "execution_count": 15,
     "metadata": {},
     "output_type": "execute_result"
    }
   ],
   "source": [
    "reviews1.loc[reviews1.Sentiment=='negative'].rating.value_counts() \n",
    "#There are some negative comments with 4  stars which is flawed\n",
    "#Lets have a look at those values"
   ]
  },
  {
   "cell_type": "markdown",
   "id": "84ab9f1a",
   "metadata": {},
   "source": [
    "# Word Cloud"
   ]
  },
  {
   "cell_type": "code",
   "execution_count": 16,
   "id": "573e1086",
   "metadata": {},
   "outputs": [],
   "source": [
    "review_str = ' '.join(reviews1['title'].tolist()) "
   ]
  },
  {
   "cell_type": "code",
   "execution_count": 20,
   "id": "f9feba88",
   "metadata": {},
   "outputs": [
    {
     "data": {
      "image/png": "[encoded data removed]",
      "text/plain": [
       "<Figure size 600x900 with 1 Axes>"
      ]
     },
     "metadata": {
      "needs_background": "light"
     },
     "output_type": "display_data"
    }
   ],
   "source": [
    "#Creating a WordCloud\n",
    "from matplotlib.pyplot import figure\n",
    "wordcloud_ip = WordCloud(\n",
    "                      background_color=\"black\", max_words=500,\n",
    "               width=1800, height=1400).generate(review_str)\n",
    "figure(figsize=(2,3), dpi=300)\n",
    "plt.imshow(wordcloud_ip,interpolation=\"bilinear\")\n",
    "plt.axis(\"off\")\n",
    "plt.show()"
   ]
  },
  {
   "cell_type": "code",
   "execution_count": 18,
   "id": "f738a163",
   "metadata": {},
   "outputs": [],
   "source": [
    "# positive words # Choose the path for +ve words stored in system\n",
    "with open(\"positive-words.txt\",\"r\") as pos:\n",
    "  poswords = pos.read().split(\"\\n\")\n",
    "  \n",
    "\n",
    "# negative words  Choose path for -ve words stored in system\n",
    "with open(\"negative-words.txt\",\"r\") as neg:\n",
    "  negwords = neg.read().split(\"\\n\")"
   ]
  },
  {
   "cell_type": "code",
   "execution_count": 19,
   "id": "755baf53",
   "metadata": {},
   "outputs": [
    {
     "data": {
      "image/png": "[encoded data removed]",
      "text/plain": [
       "<Figure size 432x288 with 1 Axes>"
      ]
     },
     "metadata": {
      "needs_background": "light"
     },
     "output_type": "display_data"
    }
   ],
   "source": [
    "# negative word cloud\n",
    "# Choosing the only words which are present in negwords\n",
    "ip_neg_in_neg = \" \".join ([w for w in review_str.split() if w in negwords])\n",
    "wordcloud_neg_in_neg = WordCloud(\n",
    "                     background_color='black',\n",
    "                     width=1800,\n",
    "                     height=1400\n",
    "                    ).generate(ip_neg_in_neg)\n",
    "\n",
    "plt.imshow(wordcloud_neg_in_neg)\n",
    "plt.axis(\"off\")\n",
    "\n",
    "plt.show()"
   ]
  },
  {
   "cell_type": "code",
   "execution_count": 21,
   "id": "86c21ea2",
   "metadata": {},
   "outputs": [
    {
     "data": {
      "image/png": "[encoded data removed]",
      "text/plain": [
       "<Figure size 432x288 with 1 Axes>"
      ]
     },
     "metadata": {
      "needs_background": "light"
     },
     "output_type": "display_data"
    }
   ],
   "source": [
    "# Positive word cloud\n",
    "# Choosing the only words which are present in positive words\n",
    "ip_pos_in_pos = \" \".join ([w for w in review_str.split() if w in poswords])\n",
    "wordcloud_pos_in_pos = WordCloud(\n",
    "                     background_color='black',  width=1800,\n",
    "                      height=1400\n",
    "                     ).generate(ip_pos_in_pos)\n",
    "plt.imshow(wordcloud_pos_in_pos)\n",
    "plt.axis(\"off\")\n",
    "plt.show()"
   ]
  },
  {
   "cell_type": "markdown",
   "id": "b729d561",
   "metadata": {},
   "source": [
    "Conclusion:Perfomed Sentiment Analysis for a Samsung Phone.Cleaned data during preprocessing and removed stopwords.Developed word clouds for dataset and for positive and negative words."
   ]
  }
 ],
 "metadata": {
  "kernelspec": {
   "display_name": "Python 3 (ipykernel)",
   "language": "python",
   "name": "python3"
  },
  "language_info": {
   "codemirror_mode": {
    "name": "ipython",
    "version": 3
   },
   "file_extension": ".py",
   "mimetype": "text/x-python",
   "name": "python",
   "nbconvert_exporter": "python",
   "pygments_lexer": "ipython3",
   "version": "3.9.13"
  }
 },
 "nbformat": 4,
 "nbformat_minor": 5
}
